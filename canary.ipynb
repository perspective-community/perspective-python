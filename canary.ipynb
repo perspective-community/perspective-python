{
 "cells": [
  {
   "cell_type": "code",
   "execution_count": 1,
   "metadata": {},
   "outputs": [],
   "source": [
    "%%capture\n",
    "# import lantern as l\n",
    "from perspective import PerspectiveWidget, View\n",
    "import pandas as pd\n",
    "import numpy as np\n",
    "import random"
   ]
  },
  {
   "cell_type": "code",
   "execution_count": 2,
   "metadata": {},
   "outputs": [
    {
     "data": {
      "application/vnd.jupyter.widget-view+json": {
       "model_id": "d596ceeaf1de4218ad7fb8255a991b7a",
       "version_major": 2,
       "version_minor": 0
      },
      "text/plain": [
       "PerspectiveWidget(columns=['0'], datasrc='static', rowpivots=['index'], schema={'index': 'integer', 0: 'float'…"
      ]
     },
     "metadata": {},
     "output_type": "display_data"
    }
   ],
   "source": [
    "df = pd.DataFrame(np.random.random((10,10)))\n",
    "p = PerspectiveWidget(df[0], View.YLINE)\n",
    "p"
   ]
  },
  {
   "cell_type": "code",
   "execution_count": 3,
   "metadata": {},
   "outputs": [
    {
     "data": {
      "application/vnd.jupyter.widget-view+json": {
       "model_id": "3261e50b4b304d22aea9ddf241b18fba",
       "version_major": 2,
       "version_minor": 0
      },
      "text/plain": [
       "PerspectiveWidget(aggregates={'0': 'sum'}, columns=['0', '1', '2', '3', '4', '5', '6', '7', '8', '9'], datasrc…"
      ]
     },
     "metadata": {},
     "output_type": "display_data"
    }
   ],
   "source": [
    "p2 = PerspectiveWidget(df, 'y_line',\n",
    "                       aggregates={'0': 'sum'})\n",
    "p2"
   ]
  },
  {
   "cell_type": "code",
   "execution_count": 4,
   "metadata": {},
   "outputs": [
    {
     "data": {
      "application/vnd.jupyter.widget-view+json": {
       "model_id": "9c0373c685c34d2695e150a5590da1f3",
       "version_major": 2,
       "version_minor": 0
      },
      "text/plain": [
       "PerspectiveWidget(aggregates={'0': 'sum', '1': 'last'}, columns=['0', '1'], datasrc='static', rowpivots=['inde…"
      ]
     },
     "metadata": {},
     "output_type": "display_data"
    }
   ],
   "source": [
    "p3 = PerspectiveWidget(df, 'y_line',\n",
    "                       columns=['0', '1'],\n",
    "                       rowpivots=['index'],\n",
    "                       aggregates={'0': 'sum',\n",
    "                                   '1': 'last'},\n",
    "                       settings=True)\n",
    "p3"
   ]
  },
  {
   "cell_type": "code",
   "execution_count": 5,
   "metadata": {},
   "outputs": [],
   "source": [
    "p3.settings = True"
   ]
  },
  {
   "cell_type": "code",
   "execution_count": 6,
   "metadata": {},
   "outputs": [
    {
     "data": {
      "application/vnd.jupyter.widget-view+json": {
       "model_id": "a7c52381ef6e4a0db4553505ec8d9391",
       "version_major": 2,
       "version_minor": 0
      },
      "text/plain": [
       "PerspectiveWidget(columns=['A', 'B', 'C', 'D'], datasrc='static', rowpivots=['index'], schema={'index': 'date'…"
      ]
     },
     "metadata": {},
     "output_type": "display_data"
    }
   ],
   "source": [
    "df2 = pd.DataFrame(pd.util.testing.getTimeSeriesData())\n",
    "p4 = PerspectiveWidget(df2, View.YLINE)\n",
    "p4"
   ]
  },
  {
   "cell_type": "code",
   "execution_count": 7,
   "metadata": {},
   "outputs": [
    {
     "data": {
      "application/vnd.jupyter.widget-view+json": {
       "model_id": "01e879352bd648ccbdc411c7f31807f2",
       "version_major": 2,
       "version_minor": 0
      },
      "text/plain": [
       "PerspectiveWidget(columns=['index', 'A', 'B', 'C', 'D'], datasrc='static', schema={'index': 'date', 'A': 'floa…"
      ]
     },
     "metadata": {},
     "output_type": "display_data"
    }
   ],
   "source": [
    "df2 = pd.DataFrame(pd.util.testing.getTimeSeriesData())\n",
    "p5 = PerspectiveWidget(df2)\n",
    "p5"
   ]
  },
  {
   "cell_type": "code",
   "execution_count": 8,
   "metadata": {},
   "outputs": [
    {
     "data": {
      "application/vnd.jupyter.widget-view+json": {
       "model_id": "8373843dbee543bca1852479f9a1ca73",
       "version_major": 2,
       "version_minor": 0
      },
      "text/plain": [
       "PerspectiveWidget(columns=['A', 'B', 'C', 'D'], datasrc='static', rowpivots=['index'], schema={'index': 'date'…"
      ]
     },
     "metadata": {},
     "output_type": "display_data"
    }
   ],
   "source": [
    "df2 = pd.DataFrame(pd.util.testing.getTimeSeriesData()).reset_index()\n",
    "p6 = PerspectiveWidget(df2.iloc[0].to_dict(), view='y_line')\n",
    "p6"
   ]
  },
  {
   "cell_type": "code",
   "execution_count": 9,
   "metadata": {},
   "outputs": [],
   "source": [
    "import time\n",
    "for i in range(len(df2.index)):\n",
    "    time.sleep(.2)\n",
    "    p6.update(df2.iloc[i].to_dict())"
   ]
  },
  {
   "cell_type": "code",
   "execution_count": null,
   "metadata": {},
   "outputs": [],
   "source": []
  }
 ],
 "metadata": {
  "kernelspec": {
   "display_name": "Python 3",
   "language": "python",
   "name": "python3"
  },
  "language_info": {
   "codemirror_mode": {
    "name": "ipython",
    "version": 3
   },
   "file_extension": ".py",
   "mimetype": "text/x-python",
   "name": "python",
   "nbconvert_exporter": "python",
   "pygments_lexer": "ipython3",
   "version": "3.7.0"
  }
 },
 "nbformat": 4,
 "nbformat_minor": 2
}
