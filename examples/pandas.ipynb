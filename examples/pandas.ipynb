{
 "cells": [
  {
   "cell_type": "code",
   "execution_count": 5,
   "metadata": {},
   "outputs": [],
   "source": [
    "import pandas as pd\n",
    "import numpy as np\n",
    "import lantern as l\n",
    "from perspective import PerspectiveWidget"
   ]
  },
  {
   "cell_type": "code",
   "execution_count": 6,
   "metadata": {},
   "outputs": [],
   "source": [
    "# basic\n",
    "df = l.superstore()\n",
    "line = l.line()"
   ]
  },
  {
   "cell_type": "code",
   "execution_count": 7,
   "metadata": {},
   "outputs": [],
   "source": [
    "df_pivoted = df.set_index(['Country', 'Region'])\n",
    "pt = pd.pivot_table(df, values = 'Discount', index=['Country','Region'], columns = 'Category')"
   ]
  },
  {
   "cell_type": "code",
   "execution_count": 8,
   "metadata": {},
   "outputs": [
    {
     "data": {
      "text/html": [
       "<div>\n",
       "<style scoped>\n",
       "    .dataframe tbody tr th:only-of-type {\n",
       "        vertical-align: middle;\n",
       "    }\n",
       "\n",
       "    .dataframe tbody tr th {\n",
       "        vertical-align: top;\n",
       "    }\n",
       "\n",
       "    .dataframe thead th {\n",
       "        text-align: right;\n",
       "    }\n",
       "</style>\n",
       "<table border=\"1\" class=\"dataframe\">\n",
       "  <thead>\n",
       "    <tr style=\"text-align: right;\">\n",
       "      <th></th>\n",
       "      <th></th>\n",
       "      <th>Category</th>\n",
       "      <th>City</th>\n",
       "      <th>Customer ID</th>\n",
       "      <th>Discount</th>\n",
       "      <th>Order Date</th>\n",
       "      <th>Order ID</th>\n",
       "      <th>Postal Code</th>\n",
       "      <th>Product ID</th>\n",
       "      <th>Profit</th>\n",
       "      <th>Quantity</th>\n",
       "      <th>Row ID</th>\n",
       "      <th>Sales</th>\n",
       "      <th>Segment</th>\n",
       "      <th>Ship Date</th>\n",
       "      <th>Ship Mode</th>\n",
       "      <th>State</th>\n",
       "      <th>Sub-Category</th>\n",
       "    </tr>\n",
       "    <tr>\n",
       "      <th>Country</th>\n",
       "      <th>Region</th>\n",
       "      <th></th>\n",
       "      <th></th>\n",
       "      <th></th>\n",
       "      <th></th>\n",
       "      <th></th>\n",
       "      <th></th>\n",
       "      <th></th>\n",
       "      <th></th>\n",
       "      <th></th>\n",
       "      <th></th>\n",
       "      <th></th>\n",
       "      <th></th>\n",
       "      <th></th>\n",
       "      <th></th>\n",
       "      <th></th>\n",
       "      <th></th>\n",
       "      <th></th>\n",
       "    </tr>\n",
       "  </thead>\n",
       "  <tbody>\n",
       "    <tr>\n",
       "      <th rowspan=\"5\" valign=\"top\">US</th>\n",
       "      <th>Region 1</th>\n",
       "      <td>Consumer Staples</td>\n",
       "      <td>North Kristie</td>\n",
       "      <td>KQT 434</td>\n",
       "      <td>46.60</td>\n",
       "      <td>2019-01-13</td>\n",
       "      <td>91-8297726</td>\n",
       "      <td>86303</td>\n",
       "      <td>WFMK8618690659657</td>\n",
       "      <td>822.84</td>\n",
       "      <td>730</td>\n",
       "      <td>0</td>\n",
       "      <td>7000</td>\n",
       "      <td>C</td>\n",
       "      <td>2019-01-17</td>\n",
       "      <td>First Class</td>\n",
       "      <td>North Dakota</td>\n",
       "      <td>Household Products</td>\n",
       "    </tr>\n",
       "    <tr>\n",
       "      <th>Region 4</th>\n",
       "      <td>Energy</td>\n",
       "      <td>Herreraside</td>\n",
       "      <td>8YG U18</td>\n",
       "      <td>78.70</td>\n",
       "      <td>2019-01-04</td>\n",
       "      <td>85-2830413</td>\n",
       "      <td>87804</td>\n",
       "      <td>RVSM5029528561448</td>\n",
       "      <td>74.35</td>\n",
       "      <td>810</td>\n",
       "      <td>1</td>\n",
       "      <td>4000</td>\n",
       "      <td>B</td>\n",
       "      <td>2019-01-30</td>\n",
       "      <td>First Class</td>\n",
       "      <td>Oklahoma</td>\n",
       "      <td>Energy Equipment &amp; Services</td>\n",
       "    </tr>\n",
       "    <tr>\n",
       "      <th>Region 1</th>\n",
       "      <td>Real Estate</td>\n",
       "      <td>South Elizabeth</td>\n",
       "      <td>7MF 696</td>\n",
       "      <td>64.95</td>\n",
       "      <td>2019-01-17</td>\n",
       "      <td>12-0151975</td>\n",
       "      <td>13129</td>\n",
       "      <td>GDZJ0675908092826</td>\n",
       "      <td>966.64</td>\n",
       "      <td>200</td>\n",
       "      <td>2</td>\n",
       "      <td>2600</td>\n",
       "      <td>B</td>\n",
       "      <td>2019-02-07</td>\n",
       "      <td>Standard Class</td>\n",
       "      <td>New Mexico</td>\n",
       "      <td>Real Estate Management &amp; Development</td>\n",
       "    </tr>\n",
       "    <tr>\n",
       "      <th>Region 1</th>\n",
       "      <td>Energy</td>\n",
       "      <td>South Paulafort</td>\n",
       "      <td>3AC P32</td>\n",
       "      <td>34.09</td>\n",
       "      <td>2019-02-10</td>\n",
       "      <td>68-2693799</td>\n",
       "      <td>45390</td>\n",
       "      <td>OHRA3336694770540</td>\n",
       "      <td>985.03</td>\n",
       "      <td>190</td>\n",
       "      <td>3</td>\n",
       "      <td>5900</td>\n",
       "      <td>B</td>\n",
       "      <td>2019-02-10</td>\n",
       "      <td>Second Class</td>\n",
       "      <td>California</td>\n",
       "      <td>Oil, Gas &amp; Consumable Fuels</td>\n",
       "    </tr>\n",
       "    <tr>\n",
       "      <th>Region 1</th>\n",
       "      <td>Utilities</td>\n",
       "      <td>West Kellyburgh</td>\n",
       "      <td>ZWH0275</td>\n",
       "      <td>60.69</td>\n",
       "      <td>2019-02-04</td>\n",
       "      <td>06-8238312</td>\n",
       "      <td>91965</td>\n",
       "      <td>PKCK0898742182051</td>\n",
       "      <td>771.56</td>\n",
       "      <td>170</td>\n",
       "      <td>4</td>\n",
       "      <td>9800</td>\n",
       "      <td>B</td>\n",
       "      <td>2019-02-07</td>\n",
       "      <td>First Class</td>\n",
       "      <td>Pennsylvania</td>\n",
       "      <td>Water Utilities</td>\n",
       "    </tr>\n",
       "  </tbody>\n",
       "</table>\n",
       "</div>"
      ],
      "text/plain": [
       "                          Category             City Customer ID  Discount  \\\n",
       "Country Region                                                              \n",
       "US      Region 1  Consumer Staples    North Kristie     KQT 434     46.60   \n",
       "        Region 4            Energy      Herreraside     8YG U18     78.70   \n",
       "        Region 1       Real Estate  South Elizabeth     7MF 696     64.95   \n",
       "        Region 1            Energy  South Paulafort     3AC P32     34.09   \n",
       "        Region 1         Utilities  West Kellyburgh     ZWH0275     60.69   \n",
       "\n",
       "                  Order Date    Order ID Postal Code         Product ID  \\\n",
       "Country Region                                                            \n",
       "US      Region 1  2019-01-13  91-8297726       86303  WFMK8618690659657   \n",
       "        Region 4  2019-01-04  85-2830413       87804  RVSM5029528561448   \n",
       "        Region 1  2019-01-17  12-0151975       13129  GDZJ0675908092826   \n",
       "        Region 1  2019-02-10  68-2693799       45390  OHRA3336694770540   \n",
       "        Region 1  2019-02-04  06-8238312       91965  PKCK0898742182051   \n",
       "\n",
       "                  Profit  Quantity  Row ID  Sales Segment   Ship Date  \\\n",
       "Country Region                                                          \n",
       "US      Region 1  822.84       730       0   7000       C  2019-01-17   \n",
       "        Region 4   74.35       810       1   4000       B  2019-01-30   \n",
       "        Region 1  966.64       200       2   2600       B  2019-02-07   \n",
       "        Region 1  985.03       190       3   5900       B  2019-02-10   \n",
       "        Region 1  771.56       170       4   9800       B  2019-02-07   \n",
       "\n",
       "                       Ship Mode         State  \\\n",
       "Country Region                                   \n",
       "US      Region 1     First Class  North Dakota   \n",
       "        Region 4     First Class      Oklahoma   \n",
       "        Region 1  Standard Class    New Mexico   \n",
       "        Region 1    Second Class    California   \n",
       "        Region 1     First Class  Pennsylvania   \n",
       "\n",
       "                                          Sub-Category  \n",
       "Country Region                                          \n",
       "US      Region 1                    Household Products  \n",
       "        Region 4           Energy Equipment & Services  \n",
       "        Region 1  Real Estate Management & Development  \n",
       "        Region 1           Oil, Gas & Consumable Fuels  \n",
       "        Region 1                      Water Utilities   "
      ]
     },
     "execution_count": 8,
     "metadata": {},
     "output_type": "execute_result"
    }
   ],
   "source": [
    "df_pivoted.head()"
   ]
  },
  {
   "cell_type": "code",
   "execution_count": 9,
   "metadata": {},
   "outputs": [
    {
     "data": {
      "application/vnd.jupyter.widget-view+json": {
       "model_id": "0533fd43d7324a0e9b71ea2298c9db91",
       "version_major": 2,
       "version_minor": 0
      },
      "text/plain": [
       "PerspectiveWidget(columns=['Category', 'City', 'Customer ID', 'Discount', 'Order Date', 'Order ID', 'Postal Co…"
      ]
     },
     "metadata": {},
     "output_type": "display_data"
    }
   ],
   "source": [
    "PerspectiveWidget(df_pivoted)"
   ]
  },
  {
   "cell_type": "code",
   "execution_count": 10,
   "metadata": {},
   "outputs": [
    {
     "data": {
      "application/vnd.jupyter.widget-view+json": {
       "model_id": "62d68ad5e0334b72bbff509ca7d3bc0b",
       "version_major": 2,
       "version_minor": 0
      },
      "text/plain": [
       "PerspectiveWidget(columns=['Consumer Discretionary', 'Consumer Staples', 'Energy', 'Financials', 'Health Care'…"
      ]
     },
     "metadata": {},
     "output_type": "display_data"
    }
   ],
   "source": [
    "PerspectiveWidget(pt)"
   ]
  },
  {
   "cell_type": "code",
   "execution_count": 11,
   "metadata": {},
   "outputs": [
    {
     "data": {
      "text/html": [
       "<div>\n",
       "<style scoped>\n",
       "    .dataframe tbody tr th:only-of-type {\n",
       "        vertical-align: middle;\n",
       "    }\n",
       "\n",
       "    .dataframe tbody tr th {\n",
       "        vertical-align: top;\n",
       "    }\n",
       "\n",
       "    .dataframe thead tr th {\n",
       "        text-align: left;\n",
       "    }\n",
       "</style>\n",
       "<table border=\"1\" class=\"dataframe\">\n",
       "  <thead>\n",
       "    <tr>\n",
       "      <th>first</th>\n",
       "      <th colspan=\"4\" halign=\"left\">bar</th>\n",
       "      <th colspan=\"4\" halign=\"left\">baz</th>\n",
       "      <th colspan=\"4\" halign=\"left\">foo</th>\n",
       "      <th colspan=\"4\" halign=\"left\">qux</th>\n",
       "    </tr>\n",
       "    <tr>\n",
       "      <th>second</th>\n",
       "      <th colspan=\"2\" halign=\"left\">one</th>\n",
       "      <th colspan=\"2\" halign=\"left\">two</th>\n",
       "      <th colspan=\"2\" halign=\"left\">one</th>\n",
       "      <th colspan=\"2\" halign=\"left\">two</th>\n",
       "      <th colspan=\"2\" halign=\"left\">one</th>\n",
       "      <th colspan=\"2\" halign=\"left\">two</th>\n",
       "      <th colspan=\"2\" halign=\"left\">one</th>\n",
       "      <th colspan=\"2\" halign=\"left\">two</th>\n",
       "    </tr>\n",
       "    <tr>\n",
       "      <th>third</th>\n",
       "      <th>X</th>\n",
       "      <th>Y</th>\n",
       "      <th>X</th>\n",
       "      <th>Y</th>\n",
       "      <th>X</th>\n",
       "      <th>Y</th>\n",
       "      <th>X</th>\n",
       "      <th>Y</th>\n",
       "      <th>X</th>\n",
       "      <th>Y</th>\n",
       "      <th>X</th>\n",
       "      <th>Y</th>\n",
       "      <th>X</th>\n",
       "      <th>Y</th>\n",
       "      <th>X</th>\n",
       "      <th>Y</th>\n",
       "    </tr>\n",
       "  </thead>\n",
       "  <tbody>\n",
       "    <tr>\n",
       "      <th>A</th>\n",
       "      <td>1.108149</td>\n",
       "      <td>0.533347</td>\n",
       "      <td>-1.081654</td>\n",
       "      <td>1.964754</td>\n",
       "      <td>-0.484440</td>\n",
       "      <td>0.869259</td>\n",
       "      <td>1.567461</td>\n",
       "      <td>1.287544</td>\n",
       "      <td>1.612679</td>\n",
       "      <td>0.839901</td>\n",
       "      <td>0.078286</td>\n",
       "      <td>0.634452</td>\n",
       "      <td>0.660650</td>\n",
       "      <td>0.733275</td>\n",
       "      <td>-1.836339</td>\n",
       "      <td>-0.078990</td>\n",
       "    </tr>\n",
       "    <tr>\n",
       "      <th>B</th>\n",
       "      <td>0.397778</td>\n",
       "      <td>-0.534178</td>\n",
       "      <td>1.226806</td>\n",
       "      <td>0.796215</td>\n",
       "      <td>0.147334</td>\n",
       "      <td>-0.939331</td>\n",
       "      <td>-0.177087</td>\n",
       "      <td>0.781269</td>\n",
       "      <td>-1.700076</td>\n",
       "      <td>1.772233</td>\n",
       "      <td>-0.599794</td>\n",
       "      <td>-0.185246</td>\n",
       "      <td>-0.657057</td>\n",
       "      <td>-0.063078</td>\n",
       "      <td>1.115184</td>\n",
       "      <td>1.704324</td>\n",
       "    </tr>\n",
       "    <tr>\n",
       "      <th>C</th>\n",
       "      <td>-1.318689</td>\n",
       "      <td>-0.471561</td>\n",
       "      <td>-1.050314</td>\n",
       "      <td>-0.279298</td>\n",
       "      <td>-0.168137</td>\n",
       "      <td>1.561943</td>\n",
       "      <td>2.322020</td>\n",
       "      <td>-1.645840</td>\n",
       "      <td>0.442136</td>\n",
       "      <td>-0.024867</td>\n",
       "      <td>0.764262</td>\n",
       "      <td>0.757329</td>\n",
       "      <td>0.807760</td>\n",
       "      <td>1.033562</td>\n",
       "      <td>1.081857</td>\n",
       "      <td>0.046960</td>\n",
       "    </tr>\n",
       "  </tbody>\n",
       "</table>\n",
       "</div>"
      ],
      "text/plain": [
       "first        bar                                     baz                      \\\n",
       "second       one                 two                 one                 two   \n",
       "third          X         Y         X         Y         X         Y         X   \n",
       "A       1.108149  0.533347 -1.081654  1.964754 -0.484440  0.869259  1.567461   \n",
       "B       0.397778 -0.534178  1.226806  0.796215  0.147334 -0.939331 -0.177087   \n",
       "C      -1.318689 -0.471561 -1.050314 -0.279298 -0.168137  1.561943  2.322020   \n",
       "\n",
       "first                  foo                                     qux            \\\n",
       "second                 one                 two                 one             \n",
       "third          Y         X         Y         X         Y         X         Y   \n",
       "A       1.287544  1.612679  0.839901  0.078286  0.634452  0.660650  0.733275   \n",
       "B       0.781269 -1.700076  1.772233 -0.599794 -0.185246 -0.657057 -0.063078   \n",
       "C      -1.645840  0.442136 -0.024867  0.764262  0.757329  0.807760  1.033562   \n",
       "\n",
       "first                       \n",
       "second       two            \n",
       "third          X         Y  \n",
       "A      -1.836339 -0.078990  \n",
       "B       1.115184  1.704324  \n",
       "C       1.081857  0.046960  "
      ]
     },
     "execution_count": 11,
     "metadata": {},
     "output_type": "execute_result"
    }
   ],
   "source": [
    "arrays = [np.array(['bar', 'bar', 'bar', 'bar', 'baz', 'baz', 'baz', 'baz', 'foo', 'foo', 'foo', 'foo', 'qux', 'qux', 'qux', 'qux']),\n",
    "          np.array(['one', 'one', 'two', 'two', 'one', 'one', 'two', 'two', 'one', 'one', 'two', 'two', 'one', 'one', 'two', 'two']),\n",
    "          np.array(['X', 'Y', 'X', 'Y', 'X', 'Y', 'X', 'Y', 'X', 'Y', 'X', 'Y', 'X', 'Y', 'X', 'Y'])]\n",
    "tuples = list(zip(*arrays))\n",
    "index = pd.MultiIndex.from_tuples(tuples, names=['first', 'second', 'third',])\n",
    "\n",
    "df_both = pd.DataFrame(np.random.randn(3, 16), index=['A', 'B', 'C'], columns=index)\n",
    "df_both"
   ]
  },
  {
   "cell_type": "code",
   "execution_count": 12,
   "metadata": {},
   "outputs": [
    {
     "data": {
      "application/vnd.jupyter.widget-view+json": {
       "model_id": "f32b1ae5dfe4459e886b0c0a4590fb6b",
       "version_major": 2,
       "version_minor": 0
      },
      "text/plain": [
       "PerspectiveWidget(columnpivots=['first', 'second', 'third'], columns=[' '], datasrc='json', rowpivots=['index'…"
      ]
     },
     "metadata": {},
     "output_type": "display_data"
    }
   ],
   "source": [
    "PerspectiveWidget(df_both)"
   ]
  },
  {
   "cell_type": "code",
   "execution_count": 13,
   "metadata": {},
   "outputs": [
    {
     "data": {
      "application/vnd.jupyter.widget-view+json": {
       "model_id": "5221629a4a564695a9ea92c051c14a76",
       "version_major": 2,
       "version_minor": 0
      },
      "text/plain": [
       "PerspectiveWidget(columns=['Quantity', 'Profit'], datasrc='json', schema={'index': 'integer', 'Category': 'str…"
      ]
     },
     "metadata": {},
     "output_type": "display_data"
    }
   ],
   "source": [
    "p = PerspectiveWidget(df, columns=['Quantity', 'Profit'])\n",
    "p"
   ]
  },
  {
   "cell_type": "code",
   "execution_count": null,
   "metadata": {},
   "outputs": [],
   "source": []
  },
  {
   "cell_type": "code",
   "execution_count": null,
   "metadata": {},
   "outputs": [],
   "source": []
  }
 ],
 "metadata": {
  "kernelspec": {
   "display_name": "Python 3",
   "language": "python",
   "name": "python3"
  },
  "language_info": {
   "codemirror_mode": {
    "name": "ipython",
    "version": 3
   },
   "file_extension": ".py",
   "mimetype": "text/x-python",
   "name": "python",
   "nbconvert_exporter": "python",
   "pygments_lexer": "ipython3",
   "version": "3.7.2"
  }
 },
 "nbformat": 4,
 "nbformat_minor": 2
}
