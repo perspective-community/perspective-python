{
 "cells": [
  {
   "cell_type": "code",
   "execution_count": 1,
   "metadata": {},
   "outputs": [],
   "source": [
    "import pandas as pd\n",
    "import numpy as np\n",
    "import lantern as l\n",
    "from perspective import PerspectiveWidget"
   ]
  },
  {
   "cell_type": "code",
   "execution_count": 2,
   "metadata": {},
   "outputs": [],
   "source": [
    "# basic\n",
    "df = l.superstore()\n",
    "line = l.line()"
   ]
  },
  {
   "cell_type": "code",
   "execution_count": 3,
   "metadata": {},
   "outputs": [],
   "source": [
    "df_pivoted = df.set_index(['Country', 'Region'])\n",
    "pt = pd.pivot_table(df, values = 'Discount', index=['Country','Region'], columns = 'Category')"
   ]
  },
  {
   "cell_type": "code",
   "execution_count": 4,
   "metadata": {},
   "outputs": [
    {
     "data": {
      "text/html": [
       "<div>\n",
       "<style scoped>\n",
       "    .dataframe tbody tr th:only-of-type {\n",
       "        vertical-align: middle;\n",
       "    }\n",
       "\n",
       "    .dataframe tbody tr th {\n",
       "        vertical-align: top;\n",
       "    }\n",
       "\n",
       "    .dataframe thead th {\n",
       "        text-align: right;\n",
       "    }\n",
       "</style>\n",
       "<table border=\"1\" class=\"dataframe\">\n",
       "  <thead>\n",
       "    <tr style=\"text-align: right;\">\n",
       "      <th></th>\n",
       "      <th></th>\n",
       "      <th>Category</th>\n",
       "      <th>City</th>\n",
       "      <th>Customer ID</th>\n",
       "      <th>Discount</th>\n",
       "      <th>Order Date</th>\n",
       "      <th>Order ID</th>\n",
       "      <th>Postal Code</th>\n",
       "      <th>Product ID</th>\n",
       "      <th>Profit</th>\n",
       "      <th>Quantity</th>\n",
       "      <th>Row ID</th>\n",
       "      <th>Sales</th>\n",
       "      <th>Segment</th>\n",
       "      <th>Ship Date</th>\n",
       "      <th>Ship Mode</th>\n",
       "      <th>State</th>\n",
       "      <th>Sub-Category</th>\n",
       "    </tr>\n",
       "    <tr>\n",
       "      <th>Country</th>\n",
       "      <th>Region</th>\n",
       "      <th></th>\n",
       "      <th></th>\n",
       "      <th></th>\n",
       "      <th></th>\n",
       "      <th></th>\n",
       "      <th></th>\n",
       "      <th></th>\n",
       "      <th></th>\n",
       "      <th></th>\n",
       "      <th></th>\n",
       "      <th></th>\n",
       "      <th></th>\n",
       "      <th></th>\n",
       "      <th></th>\n",
       "      <th></th>\n",
       "      <th></th>\n",
       "      <th></th>\n",
       "    </tr>\n",
       "  </thead>\n",
       "  <tbody>\n",
       "    <tr>\n",
       "      <th rowspan=\"5\" valign=\"top\">US</th>\n",
       "      <th>Region 0</th>\n",
       "      <td>Information Technology</td>\n",
       "      <td>Raymondbury</td>\n",
       "      <td>7GM96</td>\n",
       "      <td>65.16</td>\n",
       "      <td>2018-02-19</td>\n",
       "      <td>24-4748181</td>\n",
       "      <td>27677</td>\n",
       "      <td>CTHX1473217860447</td>\n",
       "      <td>788.72</td>\n",
       "      <td>610</td>\n",
       "      <td>0</td>\n",
       "      <td>5800</td>\n",
       "      <td>C</td>\n",
       "      <td>2018-07-07</td>\n",
       "      <td>First Class</td>\n",
       "      <td>Montana</td>\n",
       "      <td>Technology Hardware, Storage &amp; Peripherals</td>\n",
       "    </tr>\n",
       "    <tr>\n",
       "      <th>Region 3</th>\n",
       "      <td>Materials</td>\n",
       "      <td>Kellyview</td>\n",
       "      <td>9NPS 22</td>\n",
       "      <td>26.63</td>\n",
       "      <td>2018-04-18</td>\n",
       "      <td>16-7546117</td>\n",
       "      <td>77266</td>\n",
       "      <td>BGIQ0429058474233</td>\n",
       "      <td>801.83</td>\n",
       "      <td>580</td>\n",
       "      <td>1</td>\n",
       "      <td>9000</td>\n",
       "      <td>D</td>\n",
       "      <td>2018-09-28</td>\n",
       "      <td>First Class</td>\n",
       "      <td>New Hampshire</td>\n",
       "      <td>Chemicals</td>\n",
       "    </tr>\n",
       "    <tr>\n",
       "      <th>Region 0</th>\n",
       "      <td>Telecommunication Services</td>\n",
       "      <td>Jessicaburgh</td>\n",
       "      <td>58Y Y19</td>\n",
       "      <td>21.66</td>\n",
       "      <td>2018-08-11</td>\n",
       "      <td>90-7679426</td>\n",
       "      <td>18370</td>\n",
       "      <td>KAJE8643270160097</td>\n",
       "      <td>422.12</td>\n",
       "      <td>880</td>\n",
       "      <td>2</td>\n",
       "      <td>4900</td>\n",
       "      <td>A</td>\n",
       "      <td>2018-09-04</td>\n",
       "      <td>Standard Class</td>\n",
       "      <td>Massachusetts</td>\n",
       "      <td>Diversified Telecommunication Services</td>\n",
       "    </tr>\n",
       "    <tr>\n",
       "      <th>Region 3</th>\n",
       "      <td>Consumer Discretionary</td>\n",
       "      <td>Codyshire</td>\n",
       "      <td>SWF 914</td>\n",
       "      <td>67.68</td>\n",
       "      <td>2018-07-15</td>\n",
       "      <td>04-1539852</td>\n",
       "      <td>68055</td>\n",
       "      <td>UGZI4609446160319</td>\n",
       "      <td>760.95</td>\n",
       "      <td>300</td>\n",
       "      <td>3</td>\n",
       "      <td>4500</td>\n",
       "      <td>D</td>\n",
       "      <td>2018-10-18</td>\n",
       "      <td>First Class</td>\n",
       "      <td>Utah</td>\n",
       "      <td>Diversified Consumer Services</td>\n",
       "    </tr>\n",
       "    <tr>\n",
       "      <th>Region 1</th>\n",
       "      <td>Financials</td>\n",
       "      <td>Rogerport</td>\n",
       "      <td>ZSO 100</td>\n",
       "      <td>74.31</td>\n",
       "      <td>2018-02-17</td>\n",
       "      <td>46-6830246</td>\n",
       "      <td>53771</td>\n",
       "      <td>CKEK1417123053695</td>\n",
       "      <td>895.58</td>\n",
       "      <td>160</td>\n",
       "      <td>4</td>\n",
       "      <td>3800</td>\n",
       "      <td>A</td>\n",
       "      <td>2018-04-17</td>\n",
       "      <td>Standard Class</td>\n",
       "      <td>South Dakota</td>\n",
       "      <td>Mortgage REITs</td>\n",
       "    </tr>\n",
       "  </tbody>\n",
       "</table>\n",
       "</div>"
      ],
      "text/plain": [
       "                                    Category          City Customer ID  \\\n",
       "Country Region                                                           \n",
       "US      Region 0      Information Technology   Raymondbury       7GM96   \n",
       "        Region 3                   Materials     Kellyview     9NPS 22   \n",
       "        Region 0  Telecommunication Services  Jessicaburgh     58Y Y19   \n",
       "        Region 3      Consumer Discretionary     Codyshire     SWF 914   \n",
       "        Region 1                  Financials     Rogerport     ZSO 100   \n",
       "\n",
       "                  Discount  Order Date    Order ID Postal Code  \\\n",
       "Country Region                                                   \n",
       "US      Region 0     65.16  2018-02-19  24-4748181       27677   \n",
       "        Region 3     26.63  2018-04-18  16-7546117       77266   \n",
       "        Region 0     21.66  2018-08-11  90-7679426       18370   \n",
       "        Region 3     67.68  2018-07-15  04-1539852       68055   \n",
       "        Region 1     74.31  2018-02-17  46-6830246       53771   \n",
       "\n",
       "                         Product ID  Profit  Quantity  Row ID  Sales Segment  \\\n",
       "Country Region                                                                 \n",
       "US      Region 0  CTHX1473217860447  788.72       610       0   5800       C   \n",
       "        Region 3  BGIQ0429058474233  801.83       580       1   9000       D   \n",
       "        Region 0  KAJE8643270160097  422.12       880       2   4900       A   \n",
       "        Region 3  UGZI4609446160319  760.95       300       3   4500       D   \n",
       "        Region 1  CKEK1417123053695  895.58       160       4   3800       A   \n",
       "\n",
       "                   Ship Date       Ship Mode          State  \\\n",
       "Country Region                                                \n",
       "US      Region 0  2018-07-07     First Class        Montana   \n",
       "        Region 3  2018-09-28     First Class  New Hampshire   \n",
       "        Region 0  2018-09-04  Standard Class  Massachusetts   \n",
       "        Region 3  2018-10-18     First Class           Utah   \n",
       "        Region 1  2018-04-17  Standard Class   South Dakota   \n",
       "\n",
       "                                                Sub-Category  \n",
       "Country Region                                                \n",
       "US      Region 0  Technology Hardware, Storage & Peripherals  \n",
       "        Region 3                                   Chemicals  \n",
       "        Region 0      Diversified Telecommunication Services  \n",
       "        Region 3               Diversified Consumer Services  \n",
       "        Region 1                              Mortgage REITs  "
      ]
     },
     "execution_count": 4,
     "metadata": {},
     "output_type": "execute_result"
    }
   ],
   "source": [
    "df_pivoted.head()"
   ]
  },
  {
   "cell_type": "code",
   "execution_count": 5,
   "metadata": {},
   "outputs": [
    {
     "data": {
      "application/vnd.jupyter.widget-view+json": {
       "model_id": "5da2089f366547af9af225bf1cad4107",
       "version_major": 2,
       "version_minor": 0
      },
      "text/plain": [
       "PerspectiveWidget(columns=['Category', 'City', 'Customer ID', 'Discount', 'Order Date', 'Order ID', 'Postal Co…"
      ]
     },
     "metadata": {},
     "output_type": "display_data"
    }
   ],
   "source": [
    "PerspectiveWidget(df_pivoted)"
   ]
  },
  {
   "cell_type": "code",
   "execution_count": 6,
   "metadata": {},
   "outputs": [
    {
     "data": {
      "application/vnd.jupyter.widget-view+json": {
       "model_id": "26d712a79edf42ccb296b810dacd941b",
       "version_major": 2,
       "version_minor": 0
      },
      "text/plain": [
       "PerspectiveWidget(columns=['Consumer Discretionary', 'Consumer Staples', 'Energy', 'Financials', 'Health Care'…"
      ]
     },
     "metadata": {},
     "output_type": "display_data"
    }
   ],
   "source": [
    "PerspectiveWidget(pt)"
   ]
  },
  {
   "cell_type": "code",
   "execution_count": 7,
   "metadata": {},
   "outputs": [
    {
     "data": {
      "text/html": [
       "<div>\n",
       "<style scoped>\n",
       "    .dataframe tbody tr th:only-of-type {\n",
       "        vertical-align: middle;\n",
       "    }\n",
       "\n",
       "    .dataframe tbody tr th {\n",
       "        vertical-align: top;\n",
       "    }\n",
       "\n",
       "    .dataframe thead tr th {\n",
       "        text-align: left;\n",
       "    }\n",
       "</style>\n",
       "<table border=\"1\" class=\"dataframe\">\n",
       "  <thead>\n",
       "    <tr>\n",
       "      <th>first</th>\n",
       "      <th colspan=\"4\" halign=\"left\">bar</th>\n",
       "      <th colspan=\"4\" halign=\"left\">baz</th>\n",
       "      <th colspan=\"4\" halign=\"left\">foo</th>\n",
       "      <th colspan=\"4\" halign=\"left\">qux</th>\n",
       "    </tr>\n",
       "    <tr>\n",
       "      <th>second</th>\n",
       "      <th colspan=\"2\" halign=\"left\">one</th>\n",
       "      <th colspan=\"2\" halign=\"left\">two</th>\n",
       "      <th colspan=\"2\" halign=\"left\">one</th>\n",
       "      <th colspan=\"2\" halign=\"left\">two</th>\n",
       "      <th colspan=\"2\" halign=\"left\">one</th>\n",
       "      <th colspan=\"2\" halign=\"left\">two</th>\n",
       "      <th colspan=\"2\" halign=\"left\">one</th>\n",
       "      <th colspan=\"2\" halign=\"left\">two</th>\n",
       "    </tr>\n",
       "    <tr>\n",
       "      <th>third</th>\n",
       "      <th>X</th>\n",
       "      <th>Y</th>\n",
       "      <th>X</th>\n",
       "      <th>Y</th>\n",
       "      <th>X</th>\n",
       "      <th>Y</th>\n",
       "      <th>X</th>\n",
       "      <th>Y</th>\n",
       "      <th>X</th>\n",
       "      <th>Y</th>\n",
       "      <th>X</th>\n",
       "      <th>Y</th>\n",
       "      <th>X</th>\n",
       "      <th>Y</th>\n",
       "      <th>X</th>\n",
       "      <th>Y</th>\n",
       "    </tr>\n",
       "  </thead>\n",
       "  <tbody>\n",
       "    <tr>\n",
       "      <th>A</th>\n",
       "      <td>1.646832</td>\n",
       "      <td>1.168935</td>\n",
       "      <td>-0.523342</td>\n",
       "      <td>0.442163</td>\n",
       "      <td>-0.952784</td>\n",
       "      <td>0.862092</td>\n",
       "      <td>0.480534</td>\n",
       "      <td>-0.498201</td>\n",
       "      <td>0.707021</td>\n",
       "      <td>1.044063</td>\n",
       "      <td>-0.750248</td>\n",
       "      <td>-0.220615</td>\n",
       "      <td>-0.227064</td>\n",
       "      <td>-0.160982</td>\n",
       "      <td>0.988344</td>\n",
       "      <td>1.280081</td>\n",
       "    </tr>\n",
       "    <tr>\n",
       "      <th>B</th>\n",
       "      <td>-0.835261</td>\n",
       "      <td>1.776053</td>\n",
       "      <td>-0.613156</td>\n",
       "      <td>-0.640098</td>\n",
       "      <td>1.155854</td>\n",
       "      <td>0.240755</td>\n",
       "      <td>-0.350926</td>\n",
       "      <td>-1.480121</td>\n",
       "      <td>-0.551050</td>\n",
       "      <td>0.412041</td>\n",
       "      <td>0.726706</td>\n",
       "      <td>-2.116239</td>\n",
       "      <td>1.062515</td>\n",
       "      <td>1.106682</td>\n",
       "      <td>-1.154224</td>\n",
       "      <td>-1.450144</td>\n",
       "    </tr>\n",
       "    <tr>\n",
       "      <th>C</th>\n",
       "      <td>-0.378184</td>\n",
       "      <td>0.862211</td>\n",
       "      <td>-1.888629</td>\n",
       "      <td>1.989719</td>\n",
       "      <td>1.140807</td>\n",
       "      <td>0.188845</td>\n",
       "      <td>-0.051395</td>\n",
       "      <td>-0.368540</td>\n",
       "      <td>-0.480797</td>\n",
       "      <td>1.291513</td>\n",
       "      <td>0.549801</td>\n",
       "      <td>0.600356</td>\n",
       "      <td>1.105824</td>\n",
       "      <td>0.453928</td>\n",
       "      <td>-0.051696</td>\n",
       "      <td>-1.697881</td>\n",
       "    </tr>\n",
       "  </tbody>\n",
       "</table>\n",
       "</div>"
      ],
      "text/plain": [
       "first        bar                                     baz                      \\\n",
       "second       one                 two                 one                 two   \n",
       "third          X         Y         X         Y         X         Y         X   \n",
       "A       1.646832  1.168935 -0.523342  0.442163 -0.952784  0.862092  0.480534   \n",
       "B      -0.835261  1.776053 -0.613156 -0.640098  1.155854  0.240755 -0.350926   \n",
       "C      -0.378184  0.862211 -1.888629  1.989719  1.140807  0.188845 -0.051395   \n",
       "\n",
       "first                  foo                                     qux            \\\n",
       "second                 one                 two                 one             \n",
       "third          Y         X         Y         X         Y         X         Y   \n",
       "A      -0.498201  0.707021  1.044063 -0.750248 -0.220615 -0.227064 -0.160982   \n",
       "B      -1.480121 -0.551050  0.412041  0.726706 -2.116239  1.062515  1.106682   \n",
       "C      -0.368540 -0.480797  1.291513  0.549801  0.600356  1.105824  0.453928   \n",
       "\n",
       "first                       \n",
       "second       two            \n",
       "third          X         Y  \n",
       "A       0.988344  1.280081  \n",
       "B      -1.154224 -1.450144  \n",
       "C      -0.051696 -1.697881  "
      ]
     },
     "execution_count": 7,
     "metadata": {},
     "output_type": "execute_result"
    }
   ],
   "source": [
    "arrays = [np.array(['bar', 'bar', 'bar', 'bar', 'baz', 'baz', 'baz', 'baz', 'foo', 'foo', 'foo', 'foo', 'qux', 'qux', 'qux', 'qux']),\n",
    "          np.array(['one', 'one', 'two', 'two', 'one', 'one', 'two', 'two', 'one', 'one', 'two', 'two', 'one', 'one', 'two', 'two']),\n",
    "          np.array(['X', 'Y', 'X', 'Y', 'X', 'Y', 'X', 'Y', 'X', 'Y', 'X', 'Y', 'X', 'Y', 'X', 'Y'])]\n",
    "tuples = list(zip(*arrays))\n",
    "index = pd.MultiIndex.from_tuples(tuples, names=['first', 'second', 'third',])\n",
    "\n",
    "df_both = pd.DataFrame(np.random.randn(3, 16), index=['A', 'B', 'C'], columns=index)\n",
    "df_both"
   ]
  },
  {
   "cell_type": "code",
   "execution_count": 8,
   "metadata": {},
   "outputs": [
    {
     "data": {
      "application/vnd.jupyter.widget-view+json": {
       "model_id": "9c9805961d024f76863f78da391436fe",
       "version_major": 2,
       "version_minor": 0
      },
      "text/plain": [
       "PerspectiveWidget(columnpivots=['first', 'second', 'third'], columns=[' '], datasrc='pandas', rowpivots=['inde…"
      ]
     },
     "metadata": {},
     "output_type": "display_data"
    }
   ],
   "source": [
    "PerspectiveWidget(df_both)"
   ]
  },
  {
   "cell_type": "code",
   "execution_count": 9,
   "metadata": {},
   "outputs": [
    {
     "data": {
      "application/vnd.jupyter.widget-view+json": {
       "model_id": "c9d8b0328cf0451ebe80fcb888474a4f",
       "version_major": 2,
       "version_minor": 0
      },
      "text/plain": [
       "PerspectiveWidget(columns=['Quantity', 'Profit'], datasrc='pandas', schema={'index': 'integer', 'Category': 's…"
      ]
     },
     "metadata": {},
     "output_type": "display_data"
    }
   ],
   "source": [
    "p = PerspectiveWidget(df, columns=['Quantity', 'Profit'])\n",
    "p"
   ]
  },
  {
   "cell_type": "code",
   "execution_count": null,
   "metadata": {},
   "outputs": [],
   "source": []
  },
  {
   "cell_type": "code",
   "execution_count": null,
   "metadata": {},
   "outputs": [],
   "source": []
  }
 ],
 "metadata": {
  "kernelspec": {
   "display_name": "Python 3",
   "language": "python",
   "name": "python3"
  },
  "language_info": {
   "codemirror_mode": {
    "name": "ipython",
    "version": 3
   },
   "file_extension": ".py",
   "mimetype": "text/x-python",
   "name": "python",
   "nbconvert_exporter": "python",
   "pygments_lexer": "ipython3",
   "version": "3.7.0"
  }
 },
 "nbformat": 4,
 "nbformat_minor": 2
}
