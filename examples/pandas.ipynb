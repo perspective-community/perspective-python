{
 "cells": [
  {
   "cell_type": "code",
   "execution_count": 1,
   "metadata": {},
   "outputs": [],
   "source": [
    "import pandas as pd\n",
    "import lantern as l\n",
    "from perspective import PerspectiveWidget"
   ]
  },
  {
   "cell_type": "code",
   "execution_count": 2,
   "metadata": {},
   "outputs": [],
   "source": [
    "# basic\n",
    "df = l.superstore()"
   ]
  },
  {
   "cell_type": "code",
   "execution_count": 3,
   "metadata": {},
   "outputs": [],
   "source": [
    "df_pivoted = df.set_index(['Country', 'Region'])"
   ]
  },
  {
   "cell_type": "code",
   "execution_count": 4,
   "metadata": {},
   "outputs": [
    {
     "name": "stdout",
     "output_type": "stream",
     "text": [
      "resetting index\n",
      "index             int64\n",
      "Category         object\n",
      "City             object\n",
      "Country          object\n",
      "Customer ID      object\n",
      "Discount        float64\n",
      "Order Date       object\n",
      "Order ID         object\n",
      "Postal Code      object\n",
      "Product ID       object\n",
      "Profit          float64\n",
      "Quantity          int64\n",
      "Region           object\n",
      "Row ID            int64\n",
      "Sales             int64\n",
      "Segment          object\n",
      "Ship Date        object\n",
      "Ship Mode        object\n",
      "State            object\n",
      "Sub-Category     object\n",
      "dtype: object\n",
      "{'index': 'integer', 'Category': 'string', 'City': 'string', 'Country': 'string', 'Customer ID': 'string', 'Discount': 'float', 'Order Date': 'string', 'Order ID': 'string', 'Postal Code': 'string', 'Product ID': 'string', 'Profit': 'float', 'Quantity': 'integer', 'Region': 'string', 'Row ID': 'integer', 'Sales': 'integer', 'Segment': 'string', 'Ship Date': 'string', 'Ship Mode': 'string', 'State': 'string', 'Sub-Category': 'string'}\n",
      "['index', 'Category', 'City', 'Country', 'Customer ID', 'Discount', 'Order Date', 'Order ID', 'Postal Code', 'Product ID', 'Profit', 'Quantity', 'Region', 'Row ID', 'Sales', 'Segment', 'Ship Date', 'Ship Mode', 'State', 'Sub-Category']\n"
     ]
    },
    {
     "data": {
      "application/vnd.jupyter.widget-view+json": {
       "model_id": "090ba4f20dde44a28c9eaf140b1c341b",
       "version_major": 2,
       "version_minor": 0
      },
      "text/plain": [
       "PerspectiveWidget(columns=['index', 'Category', 'City', 'Country', 'Customer ID', 'Discount', 'Order Date', 'O…"
      ]
     },
     "metadata": {},
     "output_type": "display_data"
    }
   ],
   "source": [
    "p = PerspectiveWidget(df)\n",
    "p"
   ]
  },
  {
   "cell_type": "code",
   "execution_count": 5,
   "metadata": {},
   "outputs": [
    {
     "name": "stdout",
     "output_type": "stream",
     "text": [
      "resetting index\n",
      "Country          object\n",
      "Region           object\n",
      "Category         object\n",
      "City             object\n",
      "Customer ID      object\n",
      "Discount        float64\n",
      "Order Date       object\n",
      "Order ID         object\n",
      "Postal Code      object\n",
      "Product ID       object\n",
      "Profit          float64\n",
      "Quantity          int64\n",
      "Row ID            int64\n",
      "Sales             int64\n",
      "Segment          object\n",
      "Ship Date        object\n",
      "Ship Mode        object\n",
      "State            object\n",
      "Sub-Category     object\n",
      "dtype: object\n",
      "{'Country': 'string', 'Region': 'string', 'Category': 'string', 'City': 'string', 'Customer ID': 'string', 'Discount': 'float', 'Order Date': 'string', 'Order ID': 'string', 'Postal Code': 'string', 'Product ID': 'string', 'Profit': 'float', 'Quantity': 'integer', 'Row ID': 'integer', 'Sales': 'integer', 'Segment': 'string', 'Ship Date': 'string', 'Ship Mode': 'string', 'State': 'string', 'Sub-Category': 'string'}\n",
      "['Country', 'Region', 'Category', 'City', 'Customer ID', 'Discount', 'Order Date', 'Order ID', 'Postal Code', 'Product ID', 'Profit', 'Quantity', 'Row ID', 'Sales', 'Segment', 'Ship Date', 'Ship Mode', 'State', 'Sub-Category']\n"
     ]
    },
    {
     "data": {
      "application/vnd.jupyter.widget-view+json": {
       "model_id": "8a3ac1a5aada4996b479ace65dee49b1",
       "version_major": 2,
       "version_minor": 0
      },
      "text/plain": [
       "PerspectiveWidget(columns=['Country', 'Region', 'Category', 'City', 'Customer ID', 'Discount', 'Order Date', '…"
      ]
     },
     "metadata": {},
     "output_type": "display_data"
    }
   ],
   "source": [
    "p2 = PerspectiveWidget(df_pivoted)\n",
    "p2"
   ]
  },
  {
   "cell_type": "code",
   "execution_count": 6,
   "metadata": {},
   "outputs": [
    {
     "name": "stdout",
     "output_type": "stream",
     "text": [
      "resetting index\n",
      "index             int64\n",
      "Country          object\n",
      "Region           object\n",
      "Category         object\n",
      "City             object\n",
      "Customer ID      object\n",
      "Discount        float64\n",
      "Order Date       object\n",
      "Order ID         object\n",
      "Postal Code      object\n",
      "Product ID       object\n",
      "Profit          float64\n",
      "Quantity          int64\n",
      "Row ID            int64\n",
      "Sales             int64\n",
      "Segment          object\n",
      "Ship Date        object\n",
      "Ship Mode        object\n",
      "State            object\n",
      "Sub-Category     object\n",
      "dtype: object\n",
      "{'index': 'integer', 'Country': 'string', 'Region': 'string', 'Category': 'string', 'City': 'string', 'Customer ID': 'string', 'Discount': 'float', 'Order Date': 'string', 'Order ID': 'string', 'Postal Code': 'string', 'Product ID': 'string', 'Profit': 'float', 'Quantity': 'integer', 'Row ID': 'integer', 'Sales': 'integer', 'Segment': 'string', 'Ship Date': 'string', 'Ship Mode': 'string', 'State': 'string', 'Sub-Category': 'string'}\n",
      "['index', 'Country', 'Region', 'Category', 'City', 'Customer ID', 'Discount', 'Order Date', 'Order ID', 'Postal Code', 'Product ID', 'Profit', 'Quantity', 'Row ID', 'Sales', 'Segment', 'Ship Date', 'Ship Mode', 'State', 'Sub-Category']\n"
     ]
    },
    {
     "data": {
      "application/vnd.jupyter.widget-view+json": {
       "model_id": "99c8314bf16242a5ad90f8d53222fb81",
       "version_major": 2,
       "version_minor": 0
      },
      "text/plain": [
       "PerspectiveWidget(columns=['index', 'Country', 'Region', 'Category', 'City', 'Customer ID', 'Discount', 'Order…"
      ]
     },
     "metadata": {},
     "output_type": "display_data"
    }
   ],
   "source": [
    "PerspectiveWidget(df_pivoted.reset_index(), rowpivots=['Country', 'Region'])"
   ]
  },
  {
   "cell_type": "code",
   "execution_count": null,
   "metadata": {},
   "outputs": [],
   "source": []
  }
 ],
 "metadata": {
  "kernelspec": {
   "display_name": "Python 3",
   "language": "python",
   "name": "python3"
  },
  "language_info": {
   "codemirror_mode": {
    "name": "ipython",
    "version": 3
   },
   "file_extension": ".py",
   "mimetype": "text/x-python",
   "name": "python",
   "nbconvert_exporter": "python",
   "pygments_lexer": "ipython3",
   "version": "3.7.0"
  }
 },
 "nbformat": 4,
 "nbformat_minor": 2
}
