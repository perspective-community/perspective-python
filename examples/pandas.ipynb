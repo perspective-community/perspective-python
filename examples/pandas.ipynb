{
 "cells": [
  {
   "cell_type": "code",
   "execution_count": 1,
   "metadata": {},
   "outputs": [],
   "source": [
    "import pandas as pd\n",
    "import numpy as np\n",
    "import lantern as l\n",
    "from perspective import PerspectiveWidget"
   ]
  },
  {
   "cell_type": "code",
   "execution_count": 2,
   "metadata": {},
   "outputs": [],
   "source": [
    "# basic\n",
    "df = l.superstore()\n",
    "line = l.line()"
   ]
  },
  {
   "cell_type": "code",
   "execution_count": 3,
   "metadata": {},
   "outputs": [],
   "source": [
    "df_pivoted = df.set_index(['Country', 'Region'])\n",
    "pt = pd.pivot_table(df, values = 'Discount', index=['Country','Region'], columns = 'Category')"
   ]
  },
  {
   "cell_type": "code",
   "execution_count": 4,
   "metadata": {},
   "outputs": [
    {
     "data": {
      "application/vnd.jupyter.widget-view+json": {
       "model_id": "d3afa88572ab4adcb33dcd8a566c1494",
       "version_major": 2,
       "version_minor": 0
      },
      "text/plain": [
       "PerspectiveWidget(columns=['index', 'Category', 'City', 'Country', 'Customer ID', 'Discount', 'Order Date', 'O…"
      ]
     },
     "metadata": {},
     "output_type": "display_data"
    }
   ],
   "source": [
    "PerspectiveWidget(df)"
   ]
  },
  {
   "cell_type": "code",
   "execution_count": 5,
   "metadata": {},
   "outputs": [
    {
     "data": {
      "application/vnd.jupyter.widget-view+json": {
       "model_id": "29b838d6e2894077b3271e96ccfd9984",
       "version_major": 2,
       "version_minor": 0
      },
      "text/plain": [
       "PerspectiveWidget(columns=['Category', 'City', 'Customer ID', 'Discount', 'Order Date', 'Order ID', 'Postal Co…"
      ]
     },
     "metadata": {},
     "output_type": "display_data"
    }
   ],
   "source": [
    "PerspectiveWidget(df_pivoted)"
   ]
  },
  {
   "cell_type": "code",
   "execution_count": 6,
   "metadata": {},
   "outputs": [
    {
     "data": {
      "application/vnd.jupyter.widget-view+json": {
       "model_id": "fb863d651d214bbd9a3d1b28483cf8d4",
       "version_major": 2,
       "version_minor": 0
      },
      "text/plain": [
       "PerspectiveWidget(columns=['Consumer Discretionary', 'Consumer Staples', 'Energy', 'Financials', 'Health Care'…"
      ]
     },
     "metadata": {},
     "output_type": "display_data"
    }
   ],
   "source": [
    "PerspectiveWidget(pt)"
   ]
  },
  {
   "cell_type": "code",
   "execution_count": 7,
   "metadata": {},
   "outputs": [
    {
     "data": {
      "text/html": [
       "<div>\n",
       "<style scoped>\n",
       "    .dataframe tbody tr th:only-of-type {\n",
       "        vertical-align: middle;\n",
       "    }\n",
       "\n",
       "    .dataframe tbody tr th {\n",
       "        vertical-align: top;\n",
       "    }\n",
       "\n",
       "    .dataframe thead tr th {\n",
       "        text-align: left;\n",
       "    }\n",
       "</style>\n",
       "<table border=\"1\" class=\"dataframe\">\n",
       "  <thead>\n",
       "    <tr>\n",
       "      <th>first</th>\n",
       "      <th colspan=\"4\" halign=\"left\">bar</th>\n",
       "      <th colspan=\"4\" halign=\"left\">baz</th>\n",
       "      <th colspan=\"4\" halign=\"left\">foo</th>\n",
       "      <th colspan=\"4\" halign=\"left\">qux</th>\n",
       "    </tr>\n",
       "    <tr>\n",
       "      <th>second</th>\n",
       "      <th colspan=\"2\" halign=\"left\">one</th>\n",
       "      <th colspan=\"2\" halign=\"left\">two</th>\n",
       "      <th colspan=\"2\" halign=\"left\">one</th>\n",
       "      <th colspan=\"2\" halign=\"left\">two</th>\n",
       "      <th colspan=\"2\" halign=\"left\">one</th>\n",
       "      <th colspan=\"2\" halign=\"left\">two</th>\n",
       "      <th colspan=\"2\" halign=\"left\">one</th>\n",
       "      <th colspan=\"2\" halign=\"left\">two</th>\n",
       "    </tr>\n",
       "    <tr>\n",
       "      <th>third</th>\n",
       "      <th>X</th>\n",
       "      <th>Y</th>\n",
       "      <th>X</th>\n",
       "      <th>Y</th>\n",
       "      <th>X</th>\n",
       "      <th>Y</th>\n",
       "      <th>X</th>\n",
       "      <th>Y</th>\n",
       "      <th>X</th>\n",
       "      <th>Y</th>\n",
       "      <th>X</th>\n",
       "      <th>Y</th>\n",
       "      <th>X</th>\n",
       "      <th>Y</th>\n",
       "      <th>X</th>\n",
       "      <th>Y</th>\n",
       "    </tr>\n",
       "  </thead>\n",
       "  <tbody>\n",
       "    <tr>\n",
       "      <th>A</th>\n",
       "      <td>1.094752</td>\n",
       "      <td>-0.949094</td>\n",
       "      <td>-1.341609</td>\n",
       "      <td>-1.063396</td>\n",
       "      <td>2.402669</td>\n",
       "      <td>1.971396</td>\n",
       "      <td>-0.281449</td>\n",
       "      <td>-0.501582</td>\n",
       "      <td>-0.600700</td>\n",
       "      <td>0.549141</td>\n",
       "      <td>0.560435</td>\n",
       "      <td>-0.730651</td>\n",
       "      <td>1.266182</td>\n",
       "      <td>0.223716</td>\n",
       "      <td>-1.141318</td>\n",
       "      <td>-0.482957</td>\n",
       "    </tr>\n",
       "    <tr>\n",
       "      <th>B</th>\n",
       "      <td>0.536656</td>\n",
       "      <td>-0.084947</td>\n",
       "      <td>1.073464</td>\n",
       "      <td>-0.075619</td>\n",
       "      <td>0.678524</td>\n",
       "      <td>-0.664951</td>\n",
       "      <td>0.089815</td>\n",
       "      <td>0.471747</td>\n",
       "      <td>-0.053159</td>\n",
       "      <td>-0.382211</td>\n",
       "      <td>-0.683427</td>\n",
       "      <td>0.762108</td>\n",
       "      <td>0.067196</td>\n",
       "      <td>-0.131965</td>\n",
       "      <td>-0.029237</td>\n",
       "      <td>-0.122488</td>\n",
       "    </tr>\n",
       "    <tr>\n",
       "      <th>C</th>\n",
       "      <td>-0.620985</td>\n",
       "      <td>-0.093676</td>\n",
       "      <td>0.423817</td>\n",
       "      <td>-0.717994</td>\n",
       "      <td>0.722162</td>\n",
       "      <td>-1.255414</td>\n",
       "      <td>-0.120480</td>\n",
       "      <td>0.358161</td>\n",
       "      <td>0.283032</td>\n",
       "      <td>-0.664379</td>\n",
       "      <td>-0.313363</td>\n",
       "      <td>-0.405665</td>\n",
       "      <td>-1.317935</td>\n",
       "      <td>1.543109</td>\n",
       "      <td>-1.243956</td>\n",
       "      <td>0.332113</td>\n",
       "    </tr>\n",
       "  </tbody>\n",
       "</table>\n",
       "</div>"
      ],
      "text/plain": [
       "first        bar                                     baz                      \\\n",
       "second       one                 two                 one                 two   \n",
       "third          X         Y         X         Y         X         Y         X   \n",
       "A       1.094752 -0.949094 -1.341609 -1.063396  2.402669  1.971396 -0.281449   \n",
       "B       0.536656 -0.084947  1.073464 -0.075619  0.678524 -0.664951  0.089815   \n",
       "C      -0.620985 -0.093676  0.423817 -0.717994  0.722162 -1.255414 -0.120480   \n",
       "\n",
       "first                  foo                                     qux            \\\n",
       "second                 one                 two                 one             \n",
       "third          Y         X         Y         X         Y         X         Y   \n",
       "A      -0.501582 -0.600700  0.549141  0.560435 -0.730651  1.266182  0.223716   \n",
       "B       0.471747 -0.053159 -0.382211 -0.683427  0.762108  0.067196 -0.131965   \n",
       "C       0.358161  0.283032 -0.664379 -0.313363 -0.405665 -1.317935  1.543109   \n",
       "\n",
       "first                       \n",
       "second       two            \n",
       "third          X         Y  \n",
       "A      -1.141318 -0.482957  \n",
       "B      -0.029237 -0.122488  \n",
       "C      -1.243956  0.332113  "
      ]
     },
     "execution_count": 7,
     "metadata": {},
     "output_type": "execute_result"
    }
   ],
   "source": [
    "arrays = [np.array(['bar', 'bar', 'bar', 'bar', 'baz', 'baz', 'baz', 'baz', 'foo', 'foo', 'foo', 'foo', 'qux', 'qux', 'qux', 'qux']),\n",
    "          np.array(['one', 'one', 'two', 'two', 'one', 'one', 'two', 'two', 'one', 'one', 'two', 'two', 'one', 'one', 'two', 'two']),\n",
    "          np.array(['X', 'Y', 'X', 'Y', 'X', 'Y', 'X', 'Y', 'X', 'Y', 'X', 'Y', 'X', 'Y', 'X', 'Y'])]\n",
    "tuples = list(zip(*arrays))\n",
    "index = pd.MultiIndex.from_tuples(tuples, names=['first', 'second', 'third',])\n",
    "\n",
    "df_both = pd.DataFrame(np.random.randn(3, 16), index=['A', 'B', 'C'], columns=index)\n",
    "df_both"
   ]
  },
  {
   "cell_type": "code",
   "execution_count": 8,
   "metadata": {},
   "outputs": [
    {
     "data": {
      "application/vnd.jupyter.widget-view+json": {
       "model_id": "ddc1f8959db441d7af5e78086d96fe9e",
       "version_major": 2,
       "version_minor": 0
      },
      "text/plain": [
       "PerspectiveWidget(columnpivots=['first', 'second', 'third'], columns=[' '], datasrc='pandas', rowpivots=['inde…"
      ]
     },
     "metadata": {},
     "output_type": "display_data"
    }
   ],
   "source": [
    "PerspectiveWidget(df_both)"
   ]
  },
  {
   "cell_type": "code",
   "execution_count": 9,
   "metadata": {},
   "outputs": [
    {
     "data": {
      "application/vnd.jupyter.widget-view+json": {
       "model_id": "6d4d57de9e034df58ce20661f8f81296",
       "version_major": 2,
       "version_minor": 0
      },
      "text/plain": [
       "PerspectiveWidget(columns=['Quantity', 'Profit'], datasrc='pandas', schema={'index': 'integer', 'Category': 's…"
      ]
     },
     "metadata": {},
     "output_type": "display_data"
    }
   ],
   "source": [
    "p = PerspectiveWidget(df, columns=['Quantity', 'Profit'])\n",
    "p"
   ]
  },
  {
   "cell_type": "code",
   "execution_count": null,
   "metadata": {},
   "outputs": [],
   "source": []
  },
  {
   "cell_type": "code",
   "execution_count": null,
   "metadata": {},
   "outputs": [],
   "source": []
  }
 ],
 "metadata": {
  "kernelspec": {
   "display_name": "Python 3",
   "language": "python",
   "name": "python3"
  },
  "language_info": {
   "codemirror_mode": {
    "name": "ipython",
    "version": 3
   },
   "file_extension": ".py",
   "mimetype": "text/x-python",
   "name": "python",
   "nbconvert_exporter": "python",
   "pygments_lexer": "ipython3",
   "version": "3.7.0"
  }
 },
 "nbformat": 4,
 "nbformat_minor": 2
}
