{
 "cells": [
  {
   "cell_type": "code",
   "execution_count": 39,
   "metadata": {},
   "outputs": [],
   "source": [
    "import pandas as pd\n",
    "import numpy as np\n",
    "import lantern as l\n",
    "from perspective import PerspectiveWidget"
   ]
  },
  {
   "cell_type": "code",
   "execution_count": 40,
   "metadata": {},
   "outputs": [],
   "source": [
    "# basic\n",
    "df = l.superstore()\n",
    "line = l.line()"
   ]
  },
  {
   "cell_type": "code",
   "execution_count": 41,
   "metadata": {},
   "outputs": [],
   "source": [
    "df_pivoted = df.set_index(['Country', 'Region'])\n",
    "pt = pd.pivot_table(df, values = 'Discount', index=['Country','Region'], columns = 'Category')"
   ]
  },
  {
   "cell_type": "code",
   "execution_count": 42,
   "metadata": {},
   "outputs": [
    {
     "data": {
      "application/vnd.jupyter.widget-view+json": {
       "model_id": "93cc426d5b864dffb8aac1c8a447b6b8",
       "version_major": 2,
       "version_minor": 0
      },
      "text/plain": [
       "PerspectiveWidget(columns=['index', 'Category', 'City', 'Country', 'Customer ID', 'Discount', 'Order Date', 'O…"
      ]
     },
     "metadata": {},
     "output_type": "display_data"
    }
   ],
   "source": [
    "PerspectiveWidget(df)"
   ]
  },
  {
   "cell_type": "code",
   "execution_count": 43,
   "metadata": {},
   "outputs": [
    {
     "data": {
      "application/vnd.jupyter.widget-view+json": {
       "model_id": "e1a4bac5dc7c4ce7841670b5b9226c20",
       "version_major": 2,
       "version_minor": 0
      },
      "text/plain": [
       "PerspectiveWidget(columns=['Country', 'Region', 'Category', 'City', 'Customer ID', 'Discount', 'Order Date', '…"
      ]
     },
     "metadata": {},
     "output_type": "display_data"
    }
   ],
   "source": [
    "PerspectiveWidget(df_pivoted)"
   ]
  },
  {
   "cell_type": "code",
   "execution_count": 44,
   "metadata": {},
   "outputs": [
    {
     "data": {
      "application/vnd.jupyter.widget-view+json": {
       "model_id": "56604c182e8741dfa0d9a15e9b7ea9cc",
       "version_major": 2,
       "version_minor": 0
      },
      "text/plain": [
       "PerspectiveWidget(columns=['Country', 'Region', 'Consumer Discretionary', 'Consumer Staples', 'Energy', 'Finan…"
      ]
     },
     "metadata": {},
     "output_type": "display_data"
    }
   ],
   "source": [
    "PerspectiveWidget(pt)"
   ]
  },
  {
   "cell_type": "code",
   "execution_count": 45,
   "metadata": {},
   "outputs": [
    {
     "data": {
      "text/html": [
       "<div>\n",
       "<style scoped>\n",
       "    .dataframe tbody tr th:only-of-type {\n",
       "        vertical-align: middle;\n",
       "    }\n",
       "\n",
       "    .dataframe tbody tr th {\n",
       "        vertical-align: top;\n",
       "    }\n",
       "\n",
       "    .dataframe thead tr th {\n",
       "        text-align: left;\n",
       "    }\n",
       "</style>\n",
       "<table border=\"1\" class=\"dataframe\">\n",
       "  <thead>\n",
       "    <tr>\n",
       "      <th>first</th>\n",
       "      <th colspan=\"4\" halign=\"left\">bar</th>\n",
       "      <th colspan=\"4\" halign=\"left\">baz</th>\n",
       "      <th colspan=\"4\" halign=\"left\">foo</th>\n",
       "      <th colspan=\"4\" halign=\"left\">qux</th>\n",
       "    </tr>\n",
       "    <tr>\n",
       "      <th>second</th>\n",
       "      <th colspan=\"2\" halign=\"left\">one</th>\n",
       "      <th colspan=\"2\" halign=\"left\">two</th>\n",
       "      <th colspan=\"2\" halign=\"left\">one</th>\n",
       "      <th colspan=\"2\" halign=\"left\">two</th>\n",
       "      <th colspan=\"2\" halign=\"left\">one</th>\n",
       "      <th colspan=\"2\" halign=\"left\">two</th>\n",
       "      <th colspan=\"2\" halign=\"left\">one</th>\n",
       "      <th colspan=\"2\" halign=\"left\">two</th>\n",
       "    </tr>\n",
       "    <tr>\n",
       "      <th>third</th>\n",
       "      <th>X</th>\n",
       "      <th>Y</th>\n",
       "      <th>X</th>\n",
       "      <th>Y</th>\n",
       "      <th>X</th>\n",
       "      <th>Y</th>\n",
       "      <th>X</th>\n",
       "      <th>Y</th>\n",
       "      <th>X</th>\n",
       "      <th>Y</th>\n",
       "      <th>X</th>\n",
       "      <th>Y</th>\n",
       "      <th>X</th>\n",
       "      <th>Y</th>\n",
       "      <th>X</th>\n",
       "      <th>Y</th>\n",
       "    </tr>\n",
       "  </thead>\n",
       "  <tbody>\n",
       "    <tr>\n",
       "      <th>A</th>\n",
       "      <td>-0.810742</td>\n",
       "      <td>1.484288</td>\n",
       "      <td>0.263197</td>\n",
       "      <td>0.007394</td>\n",
       "      <td>-0.738353</td>\n",
       "      <td>-0.309489</td>\n",
       "      <td>-0.874666</td>\n",
       "      <td>0.122469</td>\n",
       "      <td>-2.090779</td>\n",
       "      <td>0.727891</td>\n",
       "      <td>-0.250378</td>\n",
       "      <td>-0.082591</td>\n",
       "      <td>2.156517</td>\n",
       "      <td>-0.544929</td>\n",
       "      <td>0.922264</td>\n",
       "      <td>0.442680</td>\n",
       "    </tr>\n",
       "    <tr>\n",
       "      <th>B</th>\n",
       "      <td>0.572903</td>\n",
       "      <td>0.748174</td>\n",
       "      <td>0.703182</td>\n",
       "      <td>1.659399</td>\n",
       "      <td>0.141343</td>\n",
       "      <td>-1.345737</td>\n",
       "      <td>1.120966</td>\n",
       "      <td>-0.465938</td>\n",
       "      <td>-0.139113</td>\n",
       "      <td>0.780687</td>\n",
       "      <td>0.434253</td>\n",
       "      <td>-0.859649</td>\n",
       "      <td>0.215746</td>\n",
       "      <td>-0.101330</td>\n",
       "      <td>0.627720</td>\n",
       "      <td>-1.130929</td>\n",
       "    </tr>\n",
       "    <tr>\n",
       "      <th>C</th>\n",
       "      <td>-1.315692</td>\n",
       "      <td>-1.356672</td>\n",
       "      <td>0.542051</td>\n",
       "      <td>1.562125</td>\n",
       "      <td>0.264772</td>\n",
       "      <td>0.237352</td>\n",
       "      <td>-1.030312</td>\n",
       "      <td>0.106926</td>\n",
       "      <td>0.722544</td>\n",
       "      <td>-0.514523</td>\n",
       "      <td>-0.821460</td>\n",
       "      <td>-0.554393</td>\n",
       "      <td>0.462156</td>\n",
       "      <td>0.581172</td>\n",
       "      <td>-0.521066</td>\n",
       "      <td>-0.329816</td>\n",
       "    </tr>\n",
       "  </tbody>\n",
       "</table>\n",
       "</div>"
      ],
      "text/plain": [
       "first        bar                                     baz                      \\\n",
       "second       one                 two                 one                 two   \n",
       "third          X         Y         X         Y         X         Y         X   \n",
       "A      -0.810742  1.484288  0.263197  0.007394 -0.738353 -0.309489 -0.874666   \n",
       "B       0.572903  0.748174  0.703182  1.659399  0.141343 -1.345737  1.120966   \n",
       "C      -1.315692 -1.356672  0.542051  1.562125  0.264772  0.237352 -1.030312   \n",
       "\n",
       "first                  foo                                     qux            \\\n",
       "second                 one                 two                 one             \n",
       "third          Y         X         Y         X         Y         X         Y   \n",
       "A       0.122469 -2.090779  0.727891 -0.250378 -0.082591  2.156517 -0.544929   \n",
       "B      -0.465938 -0.139113  0.780687  0.434253 -0.859649  0.215746 -0.101330   \n",
       "C       0.106926  0.722544 -0.514523 -0.821460 -0.554393  0.462156  0.581172   \n",
       "\n",
       "first                       \n",
       "second       two            \n",
       "third          X         Y  \n",
       "A       0.922264  0.442680  \n",
       "B       0.627720 -1.130929  \n",
       "C      -0.521066 -0.329816  "
      ]
     },
     "execution_count": 45,
     "metadata": {},
     "output_type": "execute_result"
    }
   ],
   "source": [
    "arrays = [np.array(['bar', 'bar', 'bar', 'bar', 'baz', 'baz', 'baz', 'baz', 'foo', 'foo', 'foo', 'foo', 'qux', 'qux', 'qux', 'qux']),\n",
    "          np.array(['one', 'one', 'two', 'two', 'one', 'one', 'two', 'two', 'one', 'one', 'two', 'two', 'one', 'one', 'two', 'two']),\n",
    "          np.array(['X', 'Y', 'X', 'Y', 'X', 'Y', 'X', 'Y', 'X', 'Y', 'X', 'Y', 'X', 'Y', 'X', 'Y'])]\n",
    "tuples = list(zip(*arrays))\n",
    "index = pd.MultiIndex.from_tuples(tuples, names=['first', 'second', 'third',])\n",
    "\n",
    "df_both = pd.DataFrame(np.random.randn(3, 16), index=['A', 'B', 'C'], columns=index)\n",
    "df_both"
   ]
  },
  {
   "cell_type": "code",
   "execution_count": 46,
   "metadata": {},
   "outputs": [
    {
     "data": {
      "application/vnd.jupyter.widget-view+json": {
       "model_id": "d89dd8d1482b4f56ae000a81fc781382",
       "version_major": 2,
       "version_minor": 0
      },
      "text/plain": [
       "PerspectiveWidget(columnpivots=['first', 'second', 'third'], columns=[' '], rowpivots=['index'], schema={'firs…"
      ]
     },
     "metadata": {},
     "output_type": "display_data"
    }
   ],
   "source": [
    "PerspectiveWidget(df_both)"
   ]
  },
  {
   "cell_type": "code",
   "execution_count": 47,
   "metadata": {},
   "outputs": [
    {
     "data": {
      "application/vnd.jupyter.widget-view+json": {
       "model_id": "4a57d2145bd64d2a8286f2eb609bb776",
       "version_major": 2,
       "version_minor": 0
      },
      "text/plain": [
       "PerspectiveWidget(limit=2)"
      ]
     },
     "metadata": {},
     "output_type": "display_data"
    }
   ],
   "source": [
    "psp = PerspectiveWidget([], limit=2)\n",
    "psp"
   ]
  },
  {
   "cell_type": "code",
   "execution_count": 48,
   "metadata": {},
   "outputs": [],
   "source": [
    "psp.update([{'index': 1, 'value': 0}])\n",
    "psp.update([{'index': 1, 'value': 1}])\n",
    "psp.update([{'index': 1, 'value': 2}])\n",
    "psp.update([{'index': 1, 'value': 3}])"
   ]
  },
  {
   "cell_type": "code",
   "execution_count": 49,
   "metadata": {},
   "outputs": [
    {
     "data": {
      "application/vnd.jupyter.widget-view+json": {
       "model_id": "3edabf1e8a604c20b13e9f384cabf526",
       "version_major": 2,
       "version_minor": 0
      },
      "text/plain": [
       "PerspectiveWidget(index='index')"
      ]
     },
     "metadata": {},
     "output_type": "display_data"
    }
   ],
   "source": [
    "psp = PerspectiveWidget([], index='index')\n",
    "psp"
   ]
  },
  {
   "cell_type": "code",
   "execution_count": 50,
   "metadata": {},
   "outputs": [],
   "source": [
    "psp.update([{'index': 1, 'value': 0}])\n",
    "psp.update([{'index': 1, 'value': 1}])\n",
    "psp.update([{'index': 1, 'value': 2}])\n",
    "psp.update([{'index': 1, 'value': 3}])"
   ]
  },
  {
   "cell_type": "code",
   "execution_count": null,
   "metadata": {},
   "outputs": [],
   "source": []
  }
 ],
 "metadata": {
  "kernelspec": {
   "display_name": "Python 3",
   "language": "python",
   "name": "python3"
  },
  "language_info": {
   "codemirror_mode": {
    "name": "ipython",
    "version": 3
   },
   "file_extension": ".py",
   "mimetype": "text/x-python",
   "name": "python",
   "nbconvert_exporter": "python",
   "pygments_lexer": "ipython3",
   "version": "3.7.0"
  }
 },
 "nbformat": 4,
 "nbformat_minor": 2
}
