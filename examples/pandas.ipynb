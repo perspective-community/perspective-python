{
 "cells": [
  {
   "cell_type": "code",
   "execution_count": 1,
   "metadata": {},
   "outputs": [],
   "source": [
    "import pandas as pd\n",
    "import numpy as np\n",
    "import lantern as l\n",
    "from perspective import PerspectiveWidget"
   ]
  },
  {
   "cell_type": "code",
   "execution_count": 2,
   "metadata": {},
   "outputs": [],
   "source": [
    "# basic\n",
    "df = l.superstore()\n",
    "line = l.line()"
   ]
  },
  {
   "cell_type": "code",
   "execution_count": 3,
   "metadata": {},
   "outputs": [],
   "source": [
    "df_pivoted = df.set_index(['Country', 'Region'])\n",
    "pt = pd.pivot_table(df, values = 'Discount', index=['Country','Region'], columns = 'Category')"
   ]
  },
  {
   "cell_type": "code",
   "execution_count": 12,
   "metadata": {},
   "outputs": [
    {
     "data": {
      "text/html": [
       "<div>\n",
       "<style scoped>\n",
       "    .dataframe tbody tr th:only-of-type {\n",
       "        vertical-align: middle;\n",
       "    }\n",
       "\n",
       "    .dataframe tbody tr th {\n",
       "        vertical-align: top;\n",
       "    }\n",
       "\n",
       "    .dataframe thead th {\n",
       "        text-align: right;\n",
       "    }\n",
       "</style>\n",
       "<table border=\"1\" class=\"dataframe\">\n",
       "  <thead>\n",
       "    <tr style=\"text-align: right;\">\n",
       "      <th></th>\n",
       "      <th></th>\n",
       "      <th>Category</th>\n",
       "      <th>City</th>\n",
       "      <th>Customer ID</th>\n",
       "      <th>Discount</th>\n",
       "      <th>Order Date</th>\n",
       "      <th>Order ID</th>\n",
       "      <th>Postal Code</th>\n",
       "      <th>Product ID</th>\n",
       "      <th>Profit</th>\n",
       "      <th>Quantity</th>\n",
       "      <th>Row ID</th>\n",
       "      <th>Sales</th>\n",
       "      <th>Segment</th>\n",
       "      <th>Ship Date</th>\n",
       "      <th>Ship Mode</th>\n",
       "      <th>State</th>\n",
       "      <th>Sub-Category</th>\n",
       "    </tr>\n",
       "    <tr>\n",
       "      <th>Country</th>\n",
       "      <th>Region</th>\n",
       "      <th></th>\n",
       "      <th></th>\n",
       "      <th></th>\n",
       "      <th></th>\n",
       "      <th></th>\n",
       "      <th></th>\n",
       "      <th></th>\n",
       "      <th></th>\n",
       "      <th></th>\n",
       "      <th></th>\n",
       "      <th></th>\n",
       "      <th></th>\n",
       "      <th></th>\n",
       "      <th></th>\n",
       "      <th></th>\n",
       "      <th></th>\n",
       "      <th></th>\n",
       "    </tr>\n",
       "  </thead>\n",
       "  <tbody>\n",
       "    <tr>\n",
       "      <th rowspan=\"5\" valign=\"top\">US</th>\n",
       "      <th>Region 0</th>\n",
       "      <td>Materials</td>\n",
       "      <td>South Clayton</td>\n",
       "      <td>20-71389</td>\n",
       "      <td>37.96</td>\n",
       "      <td>2018-11-02</td>\n",
       "      <td>24-2248857</td>\n",
       "      <td>83484</td>\n",
       "      <td>UOJO8597603684983</td>\n",
       "      <td>209.95</td>\n",
       "      <td>840</td>\n",
       "      <td>0</td>\n",
       "      <td>6100</td>\n",
       "      <td>C</td>\n",
       "      <td>2018-11-08</td>\n",
       "      <td>First Class</td>\n",
       "      <td>North Carolina</td>\n",
       "      <td>Metals &amp; Mining</td>\n",
       "    </tr>\n",
       "    <tr>\n",
       "      <th>Region 4</th>\n",
       "      <td>Energy</td>\n",
       "      <td>Jenniferside</td>\n",
       "      <td>85O 6607</td>\n",
       "      <td>80.18</td>\n",
       "      <td>2018-06-07</td>\n",
       "      <td>74-5894760</td>\n",
       "      <td>13472</td>\n",
       "      <td>OJNL9645234943356</td>\n",
       "      <td>591.15</td>\n",
       "      <td>930</td>\n",
       "      <td>1</td>\n",
       "      <td>3500</td>\n",
       "      <td>D</td>\n",
       "      <td>2018-10-09</td>\n",
       "      <td>Standard Class</td>\n",
       "      <td>South Carolina</td>\n",
       "      <td>Oil, Gas &amp; Consumable Fuels</td>\n",
       "    </tr>\n",
       "    <tr>\n",
       "      <th>Region 0</th>\n",
       "      <td>Health Care</td>\n",
       "      <td>Crystalfort</td>\n",
       "      <td>62QI076</td>\n",
       "      <td>68.65</td>\n",
       "      <td>2018-10-22</td>\n",
       "      <td>20-4177668</td>\n",
       "      <td>34247</td>\n",
       "      <td>SOIJ0124317864047</td>\n",
       "      <td>969.04</td>\n",
       "      <td>490</td>\n",
       "      <td>2</td>\n",
       "      <td>200</td>\n",
       "      <td>A</td>\n",
       "      <td>2018-11-18</td>\n",
       "      <td>First Class</td>\n",
       "      <td>Utah</td>\n",
       "      <td>Life Sciences Tools &amp; Services</td>\n",
       "    </tr>\n",
       "    <tr>\n",
       "      <th>Region 3</th>\n",
       "      <td>Real Estate</td>\n",
       "      <td>New Jose</td>\n",
       "      <td>SIB-710</td>\n",
       "      <td>67.68</td>\n",
       "      <td>2018-11-01</td>\n",
       "      <td>04-9278012</td>\n",
       "      <td>08500</td>\n",
       "      <td>NHGH5100229950470</td>\n",
       "      <td>760.95</td>\n",
       "      <td>300</td>\n",
       "      <td>3</td>\n",
       "      <td>4500</td>\n",
       "      <td>D</td>\n",
       "      <td>2018-11-13</td>\n",
       "      <td>First Class</td>\n",
       "      <td>Alaska</td>\n",
       "      <td>Equity Real Estate Investment Trusts</td>\n",
       "    </tr>\n",
       "    <tr>\n",
       "      <th>Region 1</th>\n",
       "      <td>Health Care</td>\n",
       "      <td>Port Michael</td>\n",
       "      <td>16K D59</td>\n",
       "      <td>74.31</td>\n",
       "      <td>2018-03-05</td>\n",
       "      <td>46-9150046</td>\n",
       "      <td>43093</td>\n",
       "      <td>GZPG1447603094616</td>\n",
       "      <td>895.58</td>\n",
       "      <td>160</td>\n",
       "      <td>4</td>\n",
       "      <td>3800</td>\n",
       "      <td>A</td>\n",
       "      <td>2018-04-24</td>\n",
       "      <td>Standard Class</td>\n",
       "      <td>Connecticut</td>\n",
       "      <td>Pharmaceuticals</td>\n",
       "    </tr>\n",
       "  </tbody>\n",
       "</table>\n",
       "</div>"
      ],
      "text/plain": [
       "                     Category           City Customer ID  Discount  \\\n",
       "Country Region                                                       \n",
       "US      Region 0    Materials  South Clayton    20-71389     37.96   \n",
       "        Region 4       Energy   Jenniferside    85O 6607     80.18   \n",
       "        Region 0  Health Care    Crystalfort     62QI076     68.65   \n",
       "        Region 3  Real Estate       New Jose     SIB-710     67.68   \n",
       "        Region 1  Health Care   Port Michael     16K D59     74.31   \n",
       "\n",
       "                  Order Date    Order ID Postal Code         Product ID  \\\n",
       "Country Region                                                            \n",
       "US      Region 0  2018-11-02  24-2248857       83484  UOJO8597603684983   \n",
       "        Region 4  2018-06-07  74-5894760       13472  OJNL9645234943356   \n",
       "        Region 0  2018-10-22  20-4177668       34247  SOIJ0124317864047   \n",
       "        Region 3  2018-11-01  04-9278012       08500  NHGH5100229950470   \n",
       "        Region 1  2018-03-05  46-9150046       43093  GZPG1447603094616   \n",
       "\n",
       "                  Profit  Quantity  Row ID  Sales Segment   Ship Date  \\\n",
       "Country Region                                                          \n",
       "US      Region 0  209.95       840       0   6100       C  2018-11-08   \n",
       "        Region 4  591.15       930       1   3500       D  2018-10-09   \n",
       "        Region 0  969.04       490       2    200       A  2018-11-18   \n",
       "        Region 3  760.95       300       3   4500       D  2018-11-13   \n",
       "        Region 1  895.58       160       4   3800       A  2018-04-24   \n",
       "\n",
       "                       Ship Mode           State  \\\n",
       "Country Region                                     \n",
       "US      Region 0     First Class  North Carolina   \n",
       "        Region 4  Standard Class  South Carolina   \n",
       "        Region 0     First Class            Utah   \n",
       "        Region 3     First Class          Alaska   \n",
       "        Region 1  Standard Class     Connecticut   \n",
       "\n",
       "                                          Sub-Category  \n",
       "Country Region                                          \n",
       "US      Region 0                       Metals & Mining  \n",
       "        Region 4           Oil, Gas & Consumable Fuels  \n",
       "        Region 0        Life Sciences Tools & Services  \n",
       "        Region 3  Equity Real Estate Investment Trusts  \n",
       "        Region 1                       Pharmaceuticals  "
      ]
     },
     "execution_count": 12,
     "metadata": {},
     "output_type": "execute_result"
    }
   ],
   "source": [
    "df_pivoted.head()"
   ]
  },
  {
   "cell_type": "code",
   "execution_count": 5,
   "metadata": {},
   "outputs": [
    {
     "data": {
      "application/vnd.jupyter.widget-view+json": {
       "model_id": "8b1c2f8d52e84f779ff3d49d3e674249",
       "version_major": 2,
       "version_minor": 0
      },
      "text/plain": [
       "PerspectiveWidget(columns=['Category', 'City', 'Customer ID', 'Discount', 'Order Date', 'Order ID', 'Postal Co…"
      ]
     },
     "metadata": {},
     "output_type": "display_data"
    }
   ],
   "source": [
    "PerspectiveWidget(df_pivoted)"
   ]
  },
  {
   "cell_type": "code",
   "execution_count": 6,
   "metadata": {},
   "outputs": [
    {
     "data": {
      "application/vnd.jupyter.widget-view+json": {
       "model_id": "7329407b35a24e7bb091374266faa91c",
       "version_major": 2,
       "version_minor": 0
      },
      "text/plain": [
       "PerspectiveWidget(columns=['Consumer Discretionary', 'Consumer Staples', 'Energy', 'Financials', 'Health Care'…"
      ]
     },
     "metadata": {},
     "output_type": "display_data"
    }
   ],
   "source": [
    "PerspectiveWidget(pt)"
   ]
  },
  {
   "cell_type": "code",
   "execution_count": 7,
   "metadata": {},
   "outputs": [
    {
     "data": {
      "text/html": [
       "<div>\n",
       "<style scoped>\n",
       "    .dataframe tbody tr th:only-of-type {\n",
       "        vertical-align: middle;\n",
       "    }\n",
       "\n",
       "    .dataframe tbody tr th {\n",
       "        vertical-align: top;\n",
       "    }\n",
       "\n",
       "    .dataframe thead tr th {\n",
       "        text-align: left;\n",
       "    }\n",
       "</style>\n",
       "<table border=\"1\" class=\"dataframe\">\n",
       "  <thead>\n",
       "    <tr>\n",
       "      <th>first</th>\n",
       "      <th colspan=\"4\" halign=\"left\">bar</th>\n",
       "      <th colspan=\"4\" halign=\"left\">baz</th>\n",
       "      <th colspan=\"4\" halign=\"left\">foo</th>\n",
       "      <th colspan=\"4\" halign=\"left\">qux</th>\n",
       "    </tr>\n",
       "    <tr>\n",
       "      <th>second</th>\n",
       "      <th colspan=\"2\" halign=\"left\">one</th>\n",
       "      <th colspan=\"2\" halign=\"left\">two</th>\n",
       "      <th colspan=\"2\" halign=\"left\">one</th>\n",
       "      <th colspan=\"2\" halign=\"left\">two</th>\n",
       "      <th colspan=\"2\" halign=\"left\">one</th>\n",
       "      <th colspan=\"2\" halign=\"left\">two</th>\n",
       "      <th colspan=\"2\" halign=\"left\">one</th>\n",
       "      <th colspan=\"2\" halign=\"left\">two</th>\n",
       "    </tr>\n",
       "    <tr>\n",
       "      <th>third</th>\n",
       "      <th>X</th>\n",
       "      <th>Y</th>\n",
       "      <th>X</th>\n",
       "      <th>Y</th>\n",
       "      <th>X</th>\n",
       "      <th>Y</th>\n",
       "      <th>X</th>\n",
       "      <th>Y</th>\n",
       "      <th>X</th>\n",
       "      <th>Y</th>\n",
       "      <th>X</th>\n",
       "      <th>Y</th>\n",
       "      <th>X</th>\n",
       "      <th>Y</th>\n",
       "      <th>X</th>\n",
       "      <th>Y</th>\n",
       "    </tr>\n",
       "  </thead>\n",
       "  <tbody>\n",
       "    <tr>\n",
       "      <th>A</th>\n",
       "      <td>-0.519360</td>\n",
       "      <td>-1.661320</td>\n",
       "      <td>1.757863</td>\n",
       "      <td>0.333158</td>\n",
       "      <td>-0.231934</td>\n",
       "      <td>-1.189160</td>\n",
       "      <td>0.372918</td>\n",
       "      <td>-0.192456</td>\n",
       "      <td>-0.363195</td>\n",
       "      <td>-1.275808</td>\n",
       "      <td>-1.777432</td>\n",
       "      <td>-0.239594</td>\n",
       "      <td>-1.592271</td>\n",
       "      <td>-1.163522</td>\n",
       "      <td>0.723050</td>\n",
       "      <td>-1.415804</td>\n",
       "    </tr>\n",
       "    <tr>\n",
       "      <th>B</th>\n",
       "      <td>-0.259543</td>\n",
       "      <td>0.076939</td>\n",
       "      <td>-0.442210</td>\n",
       "      <td>-0.795371</td>\n",
       "      <td>0.569697</td>\n",
       "      <td>-0.272288</td>\n",
       "      <td>0.767541</td>\n",
       "      <td>0.128644</td>\n",
       "      <td>-0.223608</td>\n",
       "      <td>-0.087371</td>\n",
       "      <td>-0.210731</td>\n",
       "      <td>-0.041402</td>\n",
       "      <td>0.822804</td>\n",
       "      <td>0.027055</td>\n",
       "      <td>0.776022</td>\n",
       "      <td>2.025949</td>\n",
       "    </tr>\n",
       "    <tr>\n",
       "      <th>C</th>\n",
       "      <td>1.031990</td>\n",
       "      <td>0.622072</td>\n",
       "      <td>-0.306371</td>\n",
       "      <td>1.096121</td>\n",
       "      <td>-0.057098</td>\n",
       "      <td>0.595192</td>\n",
       "      <td>-0.175589</td>\n",
       "      <td>-0.106736</td>\n",
       "      <td>-0.493395</td>\n",
       "      <td>-1.687150</td>\n",
       "      <td>1.186573</td>\n",
       "      <td>1.508988</td>\n",
       "      <td>0.999680</td>\n",
       "      <td>-2.107259</td>\n",
       "      <td>1.116363</td>\n",
       "      <td>1.744494</td>\n",
       "    </tr>\n",
       "  </tbody>\n",
       "</table>\n",
       "</div>"
      ],
      "text/plain": [
       "first        bar                                     baz                      \\\n",
       "second       one                 two                 one                 two   \n",
       "third          X         Y         X         Y         X         Y         X   \n",
       "A      -0.519360 -1.661320  1.757863  0.333158 -0.231934 -1.189160  0.372918   \n",
       "B      -0.259543  0.076939 -0.442210 -0.795371  0.569697 -0.272288  0.767541   \n",
       "C       1.031990  0.622072 -0.306371  1.096121 -0.057098  0.595192 -0.175589   \n",
       "\n",
       "first                  foo                                     qux            \\\n",
       "second                 one                 two                 one             \n",
       "third          Y         X         Y         X         Y         X         Y   \n",
       "A      -0.192456 -0.363195 -1.275808 -1.777432 -0.239594 -1.592271 -1.163522   \n",
       "B       0.128644 -0.223608 -0.087371 -0.210731 -0.041402  0.822804  0.027055   \n",
       "C      -0.106736 -0.493395 -1.687150  1.186573  1.508988  0.999680 -2.107259   \n",
       "\n",
       "first                       \n",
       "second       two            \n",
       "third          X         Y  \n",
       "A       0.723050 -1.415804  \n",
       "B       0.776022  2.025949  \n",
       "C       1.116363  1.744494  "
      ]
     },
     "execution_count": 7,
     "metadata": {},
     "output_type": "execute_result"
    }
   ],
   "source": [
    "arrays = [np.array(['bar', 'bar', 'bar', 'bar', 'baz', 'baz', 'baz', 'baz', 'foo', 'foo', 'foo', 'foo', 'qux', 'qux', 'qux', 'qux']),\n",
    "          np.array(['one', 'one', 'two', 'two', 'one', 'one', 'two', 'two', 'one', 'one', 'two', 'two', 'one', 'one', 'two', 'two']),\n",
    "          np.array(['X', 'Y', 'X', 'Y', 'X', 'Y', 'X', 'Y', 'X', 'Y', 'X', 'Y', 'X', 'Y', 'X', 'Y'])]\n",
    "tuples = list(zip(*arrays))\n",
    "index = pd.MultiIndex.from_tuples(tuples, names=['first', 'second', 'third',])\n",
    "\n",
    "df_both = pd.DataFrame(np.random.randn(3, 16), index=['A', 'B', 'C'], columns=index)\n",
    "df_both"
   ]
  },
  {
   "cell_type": "code",
   "execution_count": 8,
   "metadata": {},
   "outputs": [
    {
     "data": {
      "application/vnd.jupyter.widget-view+json": {
       "model_id": "69493380e95f4f5a9d0e5a134c1bf587",
       "version_major": 2,
       "version_minor": 0
      },
      "text/plain": [
       "PerspectiveWidget(columnpivots=['first', 'second', 'third'], columns=[' '], datasrc='pandas', rowpivots=['inde…"
      ]
     },
     "metadata": {},
     "output_type": "display_data"
    }
   ],
   "source": [
    "PerspectiveWidget(df_both)"
   ]
  },
  {
   "cell_type": "code",
   "execution_count": 9,
   "metadata": {},
   "outputs": [
    {
     "data": {
      "application/vnd.jupyter.widget-view+json": {
       "model_id": "34e3d068d0864d03a98d066e3108446b",
       "version_major": 2,
       "version_minor": 0
      },
      "text/plain": [
       "PerspectiveWidget(columns=['Quantity', 'Profit'], datasrc='pandas', schema={'index': 'integer', 'Category': 's…"
      ]
     },
     "metadata": {},
     "output_type": "display_data"
    }
   ],
   "source": [
    "p = PerspectiveWidget(df, columns=['Quantity', 'Profit'])\n",
    "p"
   ]
  },
  {
   "cell_type": "code",
   "execution_count": null,
   "metadata": {},
   "outputs": [],
   "source": []
  },
  {
   "cell_type": "code",
   "execution_count": null,
   "metadata": {},
   "outputs": [],
   "source": []
  }
 ],
 "metadata": {
  "kernelspec": {
   "display_name": "Python 3",
   "language": "python",
   "name": "python3"
  },
  "language_info": {
   "codemirror_mode": {
    "name": "ipython",
    "version": 3
   },
   "file_extension": ".py",
   "mimetype": "text/x-python",
   "name": "python",
   "nbconvert_exporter": "python",
   "pygments_lexer": "ipython3",
   "version": "3.7.0"
  }
 },
 "nbformat": 4,
 "nbformat_minor": 2
}
