{
 "cells": [
  {
   "cell_type": "code",
   "execution_count": 1,
   "metadata": {},
   "outputs": [],
   "source": [
    "import pandas as pd\n",
    "import numpy as np\n",
    "import lantern as l\n",
    "from perspective import PerspectiveWidget"
   ]
  },
  {
   "cell_type": "code",
   "execution_count": 2,
   "metadata": {},
   "outputs": [],
   "source": [
    "# basic\n",
    "df = l.superstore()\n",
    "line = l.line()"
   ]
  },
  {
   "cell_type": "code",
   "execution_count": 3,
   "metadata": {},
   "outputs": [],
   "source": [
    "df_pivoted = df.set_index(['Country', 'Region'])\n",
    "pt = pd.pivot_table(df, values = 'Discount', index=['Country','Region'], columns = 'Category')"
   ]
  },
  {
   "cell_type": "code",
   "execution_count": 4,
   "metadata": {},
   "outputs": [
    {
     "data": {
      "text/html": [
       "<div>\n",
       "<style scoped>\n",
       "    .dataframe tbody tr th:only-of-type {\n",
       "        vertical-align: middle;\n",
       "    }\n",
       "\n",
       "    .dataframe tbody tr th {\n",
       "        vertical-align: top;\n",
       "    }\n",
       "\n",
       "    .dataframe thead th {\n",
       "        text-align: right;\n",
       "    }\n",
       "</style>\n",
       "<table border=\"1\" class=\"dataframe\">\n",
       "  <thead>\n",
       "    <tr style=\"text-align: right;\">\n",
       "      <th></th>\n",
       "      <th></th>\n",
       "      <th>Category</th>\n",
       "      <th>City</th>\n",
       "      <th>Customer ID</th>\n",
       "      <th>Discount</th>\n",
       "      <th>Order Date</th>\n",
       "      <th>Order ID</th>\n",
       "      <th>Postal Code</th>\n",
       "      <th>Product ID</th>\n",
       "      <th>Profit</th>\n",
       "      <th>Quantity</th>\n",
       "      <th>Row ID</th>\n",
       "      <th>Sales</th>\n",
       "      <th>Segment</th>\n",
       "      <th>Ship Date</th>\n",
       "      <th>Ship Mode</th>\n",
       "      <th>State</th>\n",
       "      <th>Sub-Category</th>\n",
       "    </tr>\n",
       "    <tr>\n",
       "      <th>Country</th>\n",
       "      <th>Region</th>\n",
       "      <th></th>\n",
       "      <th></th>\n",
       "      <th></th>\n",
       "      <th></th>\n",
       "      <th></th>\n",
       "      <th></th>\n",
       "      <th></th>\n",
       "      <th></th>\n",
       "      <th></th>\n",
       "      <th></th>\n",
       "      <th></th>\n",
       "      <th></th>\n",
       "      <th></th>\n",
       "      <th></th>\n",
       "      <th></th>\n",
       "      <th></th>\n",
       "      <th></th>\n",
       "    </tr>\n",
       "  </thead>\n",
       "  <tbody>\n",
       "    <tr>\n",
       "      <th rowspan=\"5\" valign=\"top\">US</th>\n",
       "      <th>Region 0</th>\n",
       "      <td>Telecommunication Services</td>\n",
       "      <td>Kiaraside</td>\n",
       "      <td>070AO</td>\n",
       "      <td>37.96</td>\n",
       "      <td>2018-04-19</td>\n",
       "      <td>24-2812749</td>\n",
       "      <td>33310</td>\n",
       "      <td>KOTJ3362176321021</td>\n",
       "      <td>209.95</td>\n",
       "      <td>840</td>\n",
       "      <td>0</td>\n",
       "      <td>6100</td>\n",
       "      <td>C</td>\n",
       "      <td>2018-08-10</td>\n",
       "      <td>First Class</td>\n",
       "      <td>Montana</td>\n",
       "      <td>Wireless Telecommunication Services</td>\n",
       "    </tr>\n",
       "    <tr>\n",
       "      <th>Region 4</th>\n",
       "      <td>Consumer Discretionary</td>\n",
       "      <td>South Tommy</td>\n",
       "      <td>WC 4838</td>\n",
       "      <td>72.15</td>\n",
       "      <td>2018-11-02</td>\n",
       "      <td>74-3027028</td>\n",
       "      <td>78370</td>\n",
       "      <td>MBAF1463653935040</td>\n",
       "      <td>228.76</td>\n",
       "      <td>350</td>\n",
       "      <td>1</td>\n",
       "      <td>5800</td>\n",
       "      <td>D</td>\n",
       "      <td>2018-11-23</td>\n",
       "      <td>Standard Class</td>\n",
       "      <td>Missouri</td>\n",
       "      <td>Textiles, Apparel &amp; Luxury Goods</td>\n",
       "    </tr>\n",
       "    <tr>\n",
       "      <th>Region 0</th>\n",
       "      <td>Materials</td>\n",
       "      <td>Rothstad</td>\n",
       "      <td>30A 1664</td>\n",
       "      <td>68.65</td>\n",
       "      <td>2018-08-07</td>\n",
       "      <td>20-6847886</td>\n",
       "      <td>72043</td>\n",
       "      <td>GMOW8345081408689</td>\n",
       "      <td>969.04</td>\n",
       "      <td>490</td>\n",
       "      <td>2</td>\n",
       "      <td>200</td>\n",
       "      <td>A</td>\n",
       "      <td>2018-09-10</td>\n",
       "      <td>First Class</td>\n",
       "      <td>Indiana</td>\n",
       "      <td>Paper &amp; Forest Products</td>\n",
       "    </tr>\n",
       "    <tr>\n",
       "      <th>Region 3</th>\n",
       "      <td>Real Estate</td>\n",
       "      <td>Daniellefort</td>\n",
       "      <td>0P793</td>\n",
       "      <td>67.68</td>\n",
       "      <td>2018-03-22</td>\n",
       "      <td>04-9343869</td>\n",
       "      <td>94208</td>\n",
       "      <td>QRDH6679037466066</td>\n",
       "      <td>760.95</td>\n",
       "      <td>300</td>\n",
       "      <td>3</td>\n",
       "      <td>4500</td>\n",
       "      <td>D</td>\n",
       "      <td>2018-10-14</td>\n",
       "      <td>First Class</td>\n",
       "      <td>New Jersey</td>\n",
       "      <td>Equity Real Estate Investment Trusts</td>\n",
       "    </tr>\n",
       "    <tr>\n",
       "      <th>Region 1</th>\n",
       "      <td>Materials</td>\n",
       "      <td>Garyfurt</td>\n",
       "      <td>JTB-370</td>\n",
       "      <td>33.27</td>\n",
       "      <td>2018-04-11</td>\n",
       "      <td>46-0803521</td>\n",
       "      <td>06793</td>\n",
       "      <td>FNAN0318017721703</td>\n",
       "      <td>721.48</td>\n",
       "      <td>960</td>\n",
       "      <td>4</td>\n",
       "      <td>1600</td>\n",
       "      <td>A</td>\n",
       "      <td>2018-04-14</td>\n",
       "      <td>Standard Class</td>\n",
       "      <td>Ohio</td>\n",
       "      <td>Containers &amp; Packaging</td>\n",
       "    </tr>\n",
       "  </tbody>\n",
       "</table>\n",
       "</div>"
      ],
      "text/plain": [
       "                                    Category          City Customer ID  \\\n",
       "Country Region                                                           \n",
       "US      Region 0  Telecommunication Services     Kiaraside       070AO   \n",
       "        Region 4      Consumer Discretionary   South Tommy     WC 4838   \n",
       "        Region 0                   Materials      Rothstad    30A 1664   \n",
       "        Region 3                 Real Estate  Daniellefort       0P793   \n",
       "        Region 1                   Materials      Garyfurt     JTB-370   \n",
       "\n",
       "                  Discount  Order Date    Order ID Postal Code  \\\n",
       "Country Region                                                   \n",
       "US      Region 0     37.96  2018-04-19  24-2812749       33310   \n",
       "        Region 4     72.15  2018-11-02  74-3027028       78370   \n",
       "        Region 0     68.65  2018-08-07  20-6847886       72043   \n",
       "        Region 3     67.68  2018-03-22  04-9343869       94208   \n",
       "        Region 1     33.27  2018-04-11  46-0803521       06793   \n",
       "\n",
       "                         Product ID  Profit  Quantity  Row ID  Sales Segment  \\\n",
       "Country Region                                                                 \n",
       "US      Region 0  KOTJ3362176321021  209.95       840       0   6100       C   \n",
       "        Region 4  MBAF1463653935040  228.76       350       1   5800       D   \n",
       "        Region 0  GMOW8345081408689  969.04       490       2    200       A   \n",
       "        Region 3  QRDH6679037466066  760.95       300       3   4500       D   \n",
       "        Region 1  FNAN0318017721703  721.48       960       4   1600       A   \n",
       "\n",
       "                   Ship Date       Ship Mode       State  \\\n",
       "Country Region                                             \n",
       "US      Region 0  2018-08-10     First Class     Montana   \n",
       "        Region 4  2018-11-23  Standard Class    Missouri   \n",
       "        Region 0  2018-09-10     First Class     Indiana   \n",
       "        Region 3  2018-10-14     First Class  New Jersey   \n",
       "        Region 1  2018-04-14  Standard Class        Ohio   \n",
       "\n",
       "                                          Sub-Category  \n",
       "Country Region                                          \n",
       "US      Region 0   Wireless Telecommunication Services  \n",
       "        Region 4      Textiles, Apparel & Luxury Goods  \n",
       "        Region 0               Paper & Forest Products  \n",
       "        Region 3  Equity Real Estate Investment Trusts  \n",
       "        Region 1                Containers & Packaging  "
      ]
     },
     "execution_count": 4,
     "metadata": {},
     "output_type": "execute_result"
    }
   ],
   "source": [
    "df_pivoted.head()"
   ]
  },
  {
   "cell_type": "code",
   "execution_count": 5,
   "metadata": {},
   "outputs": [
    {
     "data": {
      "application/vnd.jupyter.widget-view+json": {
       "model_id": "11850ed4c8964ae7bb37654ca93b8368",
       "version_major": 2,
       "version_minor": 0
      },
      "text/plain": [
       "PerspectiveWidget(columns=['Category', 'City', 'Customer ID', 'Discount', 'Order Date', 'Order ID', 'Postal Co…"
      ]
     },
     "metadata": {},
     "output_type": "display_data"
    }
   ],
   "source": [
    "PerspectiveWidget(df_pivoted)"
   ]
  },
  {
   "cell_type": "code",
   "execution_count": 6,
   "metadata": {},
   "outputs": [
    {
     "data": {
      "application/vnd.jupyter.widget-view+json": {
       "model_id": "26d712a79edf42ccb296b810dacd941b",
       "version_major": 2,
       "version_minor": 0
      },
      "text/plain": [
       "PerspectiveWidget(columns=['Consumer Discretionary', 'Consumer Staples', 'Energy', 'Financials', 'Health Care'…"
      ]
     },
     "metadata": {},
     "output_type": "display_data"
    }
   ],
   "source": [
    "PerspectiveWidget(pt)"
   ]
  },
  {
   "cell_type": "code",
   "execution_count": 7,
   "metadata": {},
   "outputs": [
    {
     "data": {
      "text/html": [
       "<div>\n",
       "<style scoped>\n",
       "    .dataframe tbody tr th:only-of-type {\n",
       "        vertical-align: middle;\n",
       "    }\n",
       "\n",
       "    .dataframe tbody tr th {\n",
       "        vertical-align: top;\n",
       "    }\n",
       "\n",
       "    .dataframe thead tr th {\n",
       "        text-align: left;\n",
       "    }\n",
       "</style>\n",
       "<table border=\"1\" class=\"dataframe\">\n",
       "  <thead>\n",
       "    <tr>\n",
       "      <th>first</th>\n",
       "      <th colspan=\"4\" halign=\"left\">bar</th>\n",
       "      <th colspan=\"4\" halign=\"left\">baz</th>\n",
       "      <th colspan=\"4\" halign=\"left\">foo</th>\n",
       "      <th colspan=\"4\" halign=\"left\">qux</th>\n",
       "    </tr>\n",
       "    <tr>\n",
       "      <th>second</th>\n",
       "      <th colspan=\"2\" halign=\"left\">one</th>\n",
       "      <th colspan=\"2\" halign=\"left\">two</th>\n",
       "      <th colspan=\"2\" halign=\"left\">one</th>\n",
       "      <th colspan=\"2\" halign=\"left\">two</th>\n",
       "      <th colspan=\"2\" halign=\"left\">one</th>\n",
       "      <th colspan=\"2\" halign=\"left\">two</th>\n",
       "      <th colspan=\"2\" halign=\"left\">one</th>\n",
       "      <th colspan=\"2\" halign=\"left\">two</th>\n",
       "    </tr>\n",
       "    <tr>\n",
       "      <th>third</th>\n",
       "      <th>X</th>\n",
       "      <th>Y</th>\n",
       "      <th>X</th>\n",
       "      <th>Y</th>\n",
       "      <th>X</th>\n",
       "      <th>Y</th>\n",
       "      <th>X</th>\n",
       "      <th>Y</th>\n",
       "      <th>X</th>\n",
       "      <th>Y</th>\n",
       "      <th>X</th>\n",
       "      <th>Y</th>\n",
       "      <th>X</th>\n",
       "      <th>Y</th>\n",
       "      <th>X</th>\n",
       "      <th>Y</th>\n",
       "    </tr>\n",
       "  </thead>\n",
       "  <tbody>\n",
       "    <tr>\n",
       "      <th>A</th>\n",
       "      <td>1.646832</td>\n",
       "      <td>1.168935</td>\n",
       "      <td>-0.523342</td>\n",
       "      <td>0.442163</td>\n",
       "      <td>-0.952784</td>\n",
       "      <td>0.862092</td>\n",
       "      <td>0.480534</td>\n",
       "      <td>-0.498201</td>\n",
       "      <td>0.707021</td>\n",
       "      <td>1.044063</td>\n",
       "      <td>-0.750248</td>\n",
       "      <td>-0.220615</td>\n",
       "      <td>-0.227064</td>\n",
       "      <td>-0.160982</td>\n",
       "      <td>0.988344</td>\n",
       "      <td>1.280081</td>\n",
       "    </tr>\n",
       "    <tr>\n",
       "      <th>B</th>\n",
       "      <td>-0.835261</td>\n",
       "      <td>1.776053</td>\n",
       "      <td>-0.613156</td>\n",
       "      <td>-0.640098</td>\n",
       "      <td>1.155854</td>\n",
       "      <td>0.240755</td>\n",
       "      <td>-0.350926</td>\n",
       "      <td>-1.480121</td>\n",
       "      <td>-0.551050</td>\n",
       "      <td>0.412041</td>\n",
       "      <td>0.726706</td>\n",
       "      <td>-2.116239</td>\n",
       "      <td>1.062515</td>\n",
       "      <td>1.106682</td>\n",
       "      <td>-1.154224</td>\n",
       "      <td>-1.450144</td>\n",
       "    </tr>\n",
       "    <tr>\n",
       "      <th>C</th>\n",
       "      <td>-0.378184</td>\n",
       "      <td>0.862211</td>\n",
       "      <td>-1.888629</td>\n",
       "      <td>1.989719</td>\n",
       "      <td>1.140807</td>\n",
       "      <td>0.188845</td>\n",
       "      <td>-0.051395</td>\n",
       "      <td>-0.368540</td>\n",
       "      <td>-0.480797</td>\n",
       "      <td>1.291513</td>\n",
       "      <td>0.549801</td>\n",
       "      <td>0.600356</td>\n",
       "      <td>1.105824</td>\n",
       "      <td>0.453928</td>\n",
       "      <td>-0.051696</td>\n",
       "      <td>-1.697881</td>\n",
       "    </tr>\n",
       "  </tbody>\n",
       "</table>\n",
       "</div>"
      ],
      "text/plain": [
       "first        bar                                     baz                      \\\n",
       "second       one                 two                 one                 two   \n",
       "third          X         Y         X         Y         X         Y         X   \n",
       "A       1.646832  1.168935 -0.523342  0.442163 -0.952784  0.862092  0.480534   \n",
       "B      -0.835261  1.776053 -0.613156 -0.640098  1.155854  0.240755 -0.350926   \n",
       "C      -0.378184  0.862211 -1.888629  1.989719  1.140807  0.188845 -0.051395   \n",
       "\n",
       "first                  foo                                     qux            \\\n",
       "second                 one                 two                 one             \n",
       "third          Y         X         Y         X         Y         X         Y   \n",
       "A      -0.498201  0.707021  1.044063 -0.750248 -0.220615 -0.227064 -0.160982   \n",
       "B      -1.480121 -0.551050  0.412041  0.726706 -2.116239  1.062515  1.106682   \n",
       "C      -0.368540 -0.480797  1.291513  0.549801  0.600356  1.105824  0.453928   \n",
       "\n",
       "first                       \n",
       "second       two            \n",
       "third          X         Y  \n",
       "A       0.988344  1.280081  \n",
       "B      -1.154224 -1.450144  \n",
       "C      -0.051696 -1.697881  "
      ]
     },
     "execution_count": 7,
     "metadata": {},
     "output_type": "execute_result"
    }
   ],
   "source": [
    "arrays = [np.array(['bar', 'bar', 'bar', 'bar', 'baz', 'baz', 'baz', 'baz', 'foo', 'foo', 'foo', 'foo', 'qux', 'qux', 'qux', 'qux']),\n",
    "          np.array(['one', 'one', 'two', 'two', 'one', 'one', 'two', 'two', 'one', 'one', 'two', 'two', 'one', 'one', 'two', 'two']),\n",
    "          np.array(['X', 'Y', 'X', 'Y', 'X', 'Y', 'X', 'Y', 'X', 'Y', 'X', 'Y', 'X', 'Y', 'X', 'Y'])]\n",
    "tuples = list(zip(*arrays))\n",
    "index = pd.MultiIndex.from_tuples(tuples, names=['first', 'second', 'third',])\n",
    "\n",
    "df_both = pd.DataFrame(np.random.randn(3, 16), index=['A', 'B', 'C'], columns=index)\n",
    "df_both"
   ]
  },
  {
   "cell_type": "code",
   "execution_count": 8,
   "metadata": {},
   "outputs": [
    {
     "data": {
      "application/vnd.jupyter.widget-view+json": {
       "model_id": "9c9805961d024f76863f78da391436fe",
       "version_major": 2,
       "version_minor": 0
      },
      "text/plain": [
       "PerspectiveWidget(columnpivots=['first', 'second', 'third'], columns=[' '], datasrc='pandas', rowpivots=['inde…"
      ]
     },
     "metadata": {},
     "output_type": "display_data"
    }
   ],
   "source": [
    "PerspectiveWidget(df_both)"
   ]
  },
  {
   "cell_type": "code",
   "execution_count": 9,
   "metadata": {},
   "outputs": [
    {
     "data": {
      "application/vnd.jupyter.widget-view+json": {
       "model_id": "c9d8b0328cf0451ebe80fcb888474a4f",
       "version_major": 2,
       "version_minor": 0
      },
      "text/plain": [
       "PerspectiveWidget(columns=['Quantity', 'Profit'], datasrc='pandas', schema={'index': 'integer', 'Category': 's…"
      ]
     },
     "metadata": {},
     "output_type": "display_data"
    }
   ],
   "source": [
    "p = PerspectiveWidget(df, columns=['Quantity', 'Profit'])\n",
    "p"
   ]
  },
  {
   "cell_type": "code",
   "execution_count": null,
   "metadata": {},
   "outputs": [],
   "source": []
  },
  {
   "cell_type": "code",
   "execution_count": null,
   "metadata": {},
   "outputs": [],
   "source": []
  }
 ],
 "metadata": {
  "kernelspec": {
   "display_name": "Python 3",
   "language": "python",
   "name": "python3"
  },
  "language_info": {
   "codemirror_mode": {
    "name": "ipython",
    "version": 3
   },
   "file_extension": ".py",
   "mimetype": "text/x-python",
   "name": "python",
   "nbconvert_exporter": "python",
   "pygments_lexer": "ipython3",
   "version": "3.7.0"
  }
 },
 "nbformat": 4,
 "nbformat_minor": 2
}
