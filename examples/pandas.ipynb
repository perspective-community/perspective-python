{
 "cells": [
  {
   "cell_type": "code",
   "execution_count": 1,
   "metadata": {},
   "outputs": [],
   "source": [
    "import pandas as pd\n",
    "import numpy as np\n",
    "import lantern as l\n",
    "from perspective import PerspectiveWidget"
   ]
  },
  {
   "cell_type": "code",
   "execution_count": 2,
   "metadata": {},
   "outputs": [],
   "source": [
    "# basic\n",
    "df = l.superstore()"
   ]
  },
  {
   "cell_type": "code",
   "execution_count": 3,
   "metadata": {},
   "outputs": [],
   "source": [
    "df_pivoted = df.set_index(['Country', 'Region'])\n",
    "pt = pd.pivot_table(df, values = 'Discount', index=['Country','Region'], columns = 'Category')"
   ]
  },
  {
   "cell_type": "code",
   "execution_count": 4,
   "metadata": {},
   "outputs": [
    {
     "data": {
      "application/vnd.jupyter.widget-view+json": {
       "model_id": "0e2ea3c535094f4c93ab5f6068647f3b",
       "version_major": 2,
       "version_minor": 0
      },
      "text/plain": [
       "PerspectiveWidget(columns=['index', 'Category', 'City', 'Country', 'Customer ID', 'Discount', 'Order Date', 'O…"
      ]
     },
     "metadata": {},
     "output_type": "display_data"
    }
   ],
   "source": [
    "PerspectiveWidget(df)"
   ]
  },
  {
   "cell_type": "code",
   "execution_count": 5,
   "metadata": {},
   "outputs": [
    {
     "data": {
      "application/vnd.jupyter.widget-view+json": {
       "model_id": "fe907380a24945bfb39c7bb67b7f2194",
       "version_major": 2,
       "version_minor": 0
      },
      "text/plain": [
       "PerspectiveWidget(columns=['Country', 'Region', 'Category', 'City', 'Customer ID', 'Discount', 'Order Date', '…"
      ]
     },
     "metadata": {},
     "output_type": "display_data"
    }
   ],
   "source": [
    "PerspectiveWidget(df_pivoted)"
   ]
  },
  {
   "cell_type": "code",
   "execution_count": 6,
   "metadata": {},
   "outputs": [
    {
     "data": {
      "application/vnd.jupyter.widget-view+json": {
       "model_id": "125b0d3ad7de4a24969b24ba71a528ee",
       "version_major": 2,
       "version_minor": 0
      },
      "text/plain": [
       "PerspectiveWidget(columns=['Country', 'Region', 'Consumer Discretionary', 'Consumer Staples', 'Energy', 'Finan…"
      ]
     },
     "metadata": {},
     "output_type": "display_data"
    }
   ],
   "source": [
    "PerspectiveWidget(pt)"
   ]
  },
  {
   "cell_type": "code",
   "execution_count": 7,
   "metadata": {},
   "outputs": [
    {
     "data": {
      "text/html": [
       "<div>\n",
       "<style scoped>\n",
       "    .dataframe tbody tr th:only-of-type {\n",
       "        vertical-align: middle;\n",
       "    }\n",
       "\n",
       "    .dataframe tbody tr th {\n",
       "        vertical-align: top;\n",
       "    }\n",
       "\n",
       "    .dataframe thead tr th {\n",
       "        text-align: left;\n",
       "    }\n",
       "</style>\n",
       "<table border=\"1\" class=\"dataframe\">\n",
       "  <thead>\n",
       "    <tr>\n",
       "      <th>first</th>\n",
       "      <th colspan=\"4\" halign=\"left\">bar</th>\n",
       "      <th colspan=\"4\" halign=\"left\">baz</th>\n",
       "      <th colspan=\"4\" halign=\"left\">foo</th>\n",
       "      <th colspan=\"4\" halign=\"left\">qux</th>\n",
       "    </tr>\n",
       "    <tr>\n",
       "      <th>second</th>\n",
       "      <th colspan=\"2\" halign=\"left\">one</th>\n",
       "      <th colspan=\"2\" halign=\"left\">two</th>\n",
       "      <th colspan=\"2\" halign=\"left\">one</th>\n",
       "      <th colspan=\"2\" halign=\"left\">two</th>\n",
       "      <th colspan=\"2\" halign=\"left\">one</th>\n",
       "      <th colspan=\"2\" halign=\"left\">two</th>\n",
       "      <th colspan=\"2\" halign=\"left\">one</th>\n",
       "      <th colspan=\"2\" halign=\"left\">two</th>\n",
       "    </tr>\n",
       "    <tr>\n",
       "      <th>third</th>\n",
       "      <th>X</th>\n",
       "      <th>Y</th>\n",
       "      <th>X</th>\n",
       "      <th>Y</th>\n",
       "      <th>X</th>\n",
       "      <th>Y</th>\n",
       "      <th>X</th>\n",
       "      <th>Y</th>\n",
       "      <th>X</th>\n",
       "      <th>Y</th>\n",
       "      <th>X</th>\n",
       "      <th>Y</th>\n",
       "      <th>X</th>\n",
       "      <th>Y</th>\n",
       "      <th>X</th>\n",
       "      <th>Y</th>\n",
       "    </tr>\n",
       "  </thead>\n",
       "  <tbody>\n",
       "    <tr>\n",
       "      <th>A</th>\n",
       "      <td>-1.551282</td>\n",
       "      <td>-1.069651</td>\n",
       "      <td>0.844408</td>\n",
       "      <td>-1.892246</td>\n",
       "      <td>-1.022760</td>\n",
       "      <td>-0.525205</td>\n",
       "      <td>-0.345514</td>\n",
       "      <td>-0.439122</td>\n",
       "      <td>-1.485149</td>\n",
       "      <td>1.198413</td>\n",
       "      <td>-0.645822</td>\n",
       "      <td>0.871303</td>\n",
       "      <td>0.113811</td>\n",
       "      <td>0.483348</td>\n",
       "      <td>-1.559459</td>\n",
       "      <td>-0.284386</td>\n",
       "    </tr>\n",
       "    <tr>\n",
       "      <th>B</th>\n",
       "      <td>0.521262</td>\n",
       "      <td>0.346698</td>\n",
       "      <td>-1.425638</td>\n",
       "      <td>-0.144811</td>\n",
       "      <td>-0.438447</td>\n",
       "      <td>-0.133893</td>\n",
       "      <td>0.242218</td>\n",
       "      <td>0.815270</td>\n",
       "      <td>2.090969</td>\n",
       "      <td>-0.328409</td>\n",
       "      <td>1.912698</td>\n",
       "      <td>0.013588</td>\n",
       "      <td>-0.703574</td>\n",
       "      <td>0.995964</td>\n",
       "      <td>0.218183</td>\n",
       "      <td>1.339622</td>\n",
       "    </tr>\n",
       "    <tr>\n",
       "      <th>C</th>\n",
       "      <td>0.760693</td>\n",
       "      <td>-0.076754</td>\n",
       "      <td>0.989660</td>\n",
       "      <td>0.254075</td>\n",
       "      <td>-0.998013</td>\n",
       "      <td>-0.437679</td>\n",
       "      <td>0.044536</td>\n",
       "      <td>-1.746259</td>\n",
       "      <td>0.477681</td>\n",
       "      <td>-0.543404</td>\n",
       "      <td>0.808768</td>\n",
       "      <td>-2.702967</td>\n",
       "      <td>-0.901890</td>\n",
       "      <td>0.429952</td>\n",
       "      <td>2.377907</td>\n",
       "      <td>-0.332014</td>\n",
       "    </tr>\n",
       "  </tbody>\n",
       "</table>\n",
       "</div>"
      ],
      "text/plain": [
       "first        bar                                     baz                      \\\n",
       "second       one                 two                 one                 two   \n",
       "third          X         Y         X         Y         X         Y         X   \n",
       "A      -1.551282 -1.069651  0.844408 -1.892246 -1.022760 -0.525205 -0.345514   \n",
       "B       0.521262  0.346698 -1.425638 -0.144811 -0.438447 -0.133893  0.242218   \n",
       "C       0.760693 -0.076754  0.989660  0.254075 -0.998013 -0.437679  0.044536   \n",
       "\n",
       "first                  foo                                     qux            \\\n",
       "second                 one                 two                 one             \n",
       "third          Y         X         Y         X         Y         X         Y   \n",
       "A      -0.439122 -1.485149  1.198413 -0.645822  0.871303  0.113811  0.483348   \n",
       "B       0.815270  2.090969 -0.328409  1.912698  0.013588 -0.703574  0.995964   \n",
       "C      -1.746259  0.477681 -0.543404  0.808768 -2.702967 -0.901890  0.429952   \n",
       "\n",
       "first                       \n",
       "second       two            \n",
       "third          X         Y  \n",
       "A      -1.559459 -0.284386  \n",
       "B       0.218183  1.339622  \n",
       "C       2.377907 -0.332014  "
      ]
     },
     "execution_count": 7,
     "metadata": {},
     "output_type": "execute_result"
    }
   ],
   "source": [
    "arrays = [np.array(['bar', 'bar', 'bar', 'bar', 'baz', 'baz', 'baz', 'baz', 'foo', 'foo', 'foo', 'foo', 'qux', 'qux', 'qux', 'qux']),\n",
    "          np.array(['one', 'one', 'two', 'two', 'one', 'one', 'two', 'two', 'one', 'one', 'two', 'two', 'one', 'one', 'two', 'two']),\n",
    "          np.array(['X', 'Y', 'X', 'Y', 'X', 'Y', 'X', 'Y', 'X', 'Y', 'X', 'Y', 'X', 'Y', 'X', 'Y'])]\n",
    "tuples = list(zip(*arrays))\n",
    "index = pd.MultiIndex.from_tuples(tuples, names=['first', 'second', 'third',])\n",
    "\n",
    "df_both = pd.DataFrame(np.random.randn(3, 16), index=['A', 'B', 'C'], columns=index)\n",
    "df_both"
   ]
  },
  {
   "cell_type": "code",
   "execution_count": 10,
   "metadata": {},
   "outputs": [
    {
     "data": {
      "application/vnd.jupyter.widget-view+json": {
       "model_id": "42b4f40fbe314eb99a5bf7cce4d4eb2c",
       "version_major": 2,
       "version_minor": 0
      },
      "text/plain": [
       "PerspectiveWidget(columnpivots=['first', 'second', 'third'], columns=[' '], rowpivots=['index'], schema={'firs…"
      ]
     },
     "metadata": {},
     "output_type": "display_data"
    }
   ],
   "source": [
    "PerspectiveWidget(df_both)"
   ]
  },
  {
   "cell_type": "code",
   "execution_count": null,
   "metadata": {},
   "outputs": [],
   "source": []
  }
 ],
 "metadata": {
  "kernelspec": {
   "display_name": "Python 3",
   "language": "python",
   "name": "python3"
  },
  "language_info": {
   "codemirror_mode": {
    "name": "ipython",
    "version": 3
   },
   "file_extension": ".py",
   "mimetype": "text/x-python",
   "name": "python",
   "nbconvert_exporter": "python",
   "pygments_lexer": "ipython3",
   "version": "3.7.0"
  }
 },
 "nbformat": 4,
 "nbformat_minor": 2
}
