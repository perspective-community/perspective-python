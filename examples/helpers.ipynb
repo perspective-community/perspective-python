{
 "cells": [
  {
   "cell_type": "code",
   "execution_count": 1,
   "metadata": {},
   "outputs": [],
   "source": [
    "import json\n",
    "from perspective import psp, PerspectiveWidget, WSHelper, HTTPHelper"
   ]
  },
  {
   "cell_type": "code",
   "execution_count": 2,
   "metadata": {},
   "outputs": [
    {
     "data": {
      "application/vnd.jupyter.widget-view+json": {
       "model_id": "944e0c4540cf49b9be520276b85d9743",
       "version_major": 2,
       "version_minor": 0
      },
      "text/plain": [
       "PerspectiveWidget()"
      ]
     },
     "metadata": {},
     "output_type": "display_data"
    }
   ],
   "source": [
    "p = PerspectiveWidget('wss://ws-feed.gdax.com', helper_config=dict(send=json.dumps({\n",
    "    \"type\": \"subscribe\",\n",
    "    \"channels\": [{\"name\": \"heartbeat\", \"product_ids\": [\"ETH-USD\"]},\n",
    "                 {\"name\": \"ticker\", \"product_ids\": [\"ETH-USD\"]}]\n",
    "})))\n",
    "p"
   ]
  },
  {
   "cell_type": "code",
   "execution_count": 2,
   "metadata": {},
   "outputs": [
    {
     "data": {
      "application/vnd.jupyter.widget-view+json": {
       "model_id": "d6234ff416b54ef3afbe4489bf7ab5d2",
       "version_major": 2,
       "version_minor": 0
      },
      "text/plain": [
       "PerspectiveWidget(columns=['longitude', 'latitude', 'availableBikes'], view='xy_scatter')"
      ]
     },
     "metadata": {},
     "output_type": "display_data"
    }
   ],
   "source": [
    "p2 = PerspectiveWidget('https://unpkg.com/@jpmorganchase/perspective-examples@0.1.18/build/citibike.json',\n",
    "                       view='xy_scatter',\n",
    "                       columns = ['longitude', 'latitude', 'availableBikes'],\n",
    "                       helper_config={'field': 'stationBeanList'})\n",
    "p2"
   ]
  },
  {
   "cell_type": "code",
   "execution_count": null,
   "metadata": {},
   "outputs": [],
   "source": []
  }
 ],
 "metadata": {
  "kernelspec": {
   "display_name": "Python 3",
   "language": "python",
   "name": "python3"
  },
  "language_info": {
   "codemirror_mode": {
    "name": "ipython",
    "version": 3
   },
   "file_extension": ".py",
   "mimetype": "text/x-python",
   "name": "python",
   "nbconvert_exporter": "python",
   "pygments_lexer": "ipython3",
   "version": "3.7.0"
  }
 },
 "nbformat": 4,
 "nbformat_minor": 2
}
