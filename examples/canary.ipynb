{
 "cells": [
  {
   "cell_type": "code",
   "execution_count": 1,
   "metadata": {},
   "outputs": [],
   "source": [
    "%%capture\n",
    "# import lantern as l\n",
    "from perspective import PerspectiveWidget, View\n",
    "import pandas as pd\n",
    "import numpy as np\n",
    "import random"
   ]
  },
  {
   "cell_type": "code",
   "execution_count": 2,
   "metadata": {},
   "outputs": [
    {
     "data": {
      "application/vnd.jupyter.widget-view+json": {
       "model_id": "9eaffa4c576c4953afa613b59a636a3f",
       "version_major": 2,
       "version_minor": 0
      },
      "text/plain": [
       "PerspectiveWidget(columns=['0'], datasrc='pandas', schema={0: 'float'}, view='y_line')"
      ]
     },
     "metadata": {},
     "output_type": "display_data"
    }
   ],
   "source": [
    "df = pd.DataFrame(np.random.random((10,10)))\n",
    "p = PerspectiveWidget(df[0], View.YLINE)\n",
    "p"
   ]
  },
  {
   "cell_type": "code",
   "execution_count": 3,
   "metadata": {},
   "outputs": [
    {
     "data": {
      "application/vnd.jupyter.widget-view+json": {
       "model_id": "b1268c651d56403c8d96c5d163c0b7b4",
       "version_major": 2,
       "version_minor": 0
      },
      "text/plain": [
       "PerspectiveWidget(aggregates={'0': 'sum'}, columns=['0', '1', '2', '3', '4', '5', '6', '7', '8', '9'], datasrc…"
      ]
     },
     "metadata": {},
     "output_type": "display_data"
    }
   ],
   "source": [
    "p2 = PerspectiveWidget(df, 'y_line',\n",
    "                       aggregates={'0': 'sum'})\n",
    "p2"
   ]
  },
  {
   "cell_type": "code",
   "execution_count": 4,
   "metadata": {},
   "outputs": [
    {
     "data": {
      "application/vnd.jupyter.widget-view+json": {
       "model_id": "0aa2b30ca7ee43ee85a64eb3582c038d",
       "version_major": 2,
       "version_minor": 0
      },
      "text/plain": [
       "PerspectiveWidget(aggregates={'0': 'sum', '1': 'last'}, columns=['0', '1'], datasrc='pandas', rowpivots=['inde…"
      ]
     },
     "metadata": {},
     "output_type": "display_data"
    }
   ],
   "source": [
    "p3 = PerspectiveWidget(df, 'y_line',\n",
    "                       columns=['0', '1'],\n",
    "                       rowpivots=['index'],\n",
    "                       aggregates={'0': 'sum',\n",
    "                                   '1': 'last'},\n",
    "                       settings=True)\n",
    "p3"
   ]
  },
  {
   "cell_type": "code",
   "execution_count": 5,
   "metadata": {},
   "outputs": [],
   "source": [
    "p3.settings = True"
   ]
  },
  {
   "cell_type": "code",
   "execution_count": 6,
   "metadata": {},
   "outputs": [
    {
     "data": {
      "application/vnd.jupyter.widget-view+json": {
       "model_id": "e4bbb8c9c78040babbb9e9b9fb4a86f1",
       "version_major": 2,
       "version_minor": 0
      },
      "text/plain": [
       "PerspectiveWidget(columns=['A', 'B', 'C', 'D'], datasrc='pandas', rowpivots=['index'], schema={'index': 'date'…"
      ]
     },
     "metadata": {},
     "output_type": "display_data"
    }
   ],
   "source": [
    "df2 = pd.DataFrame(pd.util.testing.getTimeSeriesData())\n",
    "p4 = PerspectiveWidget(df2, View.YLINE)\n",
    "p4"
   ]
  },
  {
   "cell_type": "code",
   "execution_count": 7,
   "metadata": {},
   "outputs": [
    {
     "data": {
      "application/vnd.jupyter.widget-view+json": {
       "model_id": "aabbd56e786a4df599d4f2e9e7d263d6",
       "version_major": 2,
       "version_minor": 0
      },
      "text/plain": [
       "PerspectiveWidget(columns=['index', 'A', 'B', 'C', 'D'], datasrc='pandas', schema={'index': 'date', 'A': 'floa…"
      ]
     },
     "metadata": {},
     "output_type": "display_data"
    }
   ],
   "source": [
    "df2 = pd.DataFrame(pd.util.testing.getTimeSeriesData())\n",
    "p5 = PerspectiveWidget(df2)\n",
    "p5"
   ]
  },
  {
   "cell_type": "code",
   "execution_count": 8,
   "metadata": {},
   "outputs": [
    {
     "data": {
      "application/vnd.jupyter.widget-view+json": {
       "model_id": "8abeec3faee3407aad39d3fed0fa4fee",
       "version_major": 2,
       "version_minor": 0
      },
      "text/plain": [
       "PerspectiveWidget(columns=['A', 'B', 'C', 'D'], datasrc='dict', rowpivots=['index'], schema={'index': 'date', …"
      ]
     },
     "metadata": {},
     "output_type": "display_data"
    }
   ],
   "source": [
    "df2 = pd.DataFrame(pd.util.testing.getTimeSeriesData()).reset_index()\n",
    "p6 = PerspectiveWidget(df2.iloc[0].to_dict(), view='y_line')\n",
    "p6"
   ]
  },
  {
   "cell_type": "code",
   "execution_count": 9,
   "metadata": {},
   "outputs": [],
   "source": [
    "import time\n",
    "for i in range(len(df2.index)):\n",
    "    time.sleep(.2)\n",
    "    p6.update(df2.iloc[i].to_dict())"
   ]
  },
  {
   "cell_type": "code",
   "execution_count": 10,
   "metadata": {},
   "outputs": [
    {
     "data": {
      "application/vnd.jupyter.widget-view+json": {
       "model_id": "775695ccffb041f68d23c5a00a4a91a7",
       "version_major": 2,
       "version_minor": 0
      },
      "text/plain": [
       "PerspectiveWidget(columns=['index', 'value'], datasrc='list', limit=2, schema={'index': 'integer', 'value': 'i…"
      ]
     },
     "metadata": {},
     "output_type": "display_data"
    }
   ],
   "source": [
    "psp = PerspectiveWidget([{'index': 1, 'value': 0}], limit=2)\n",
    "psp"
   ]
  },
  {
   "cell_type": "code",
   "execution_count": 11,
   "metadata": {},
   "outputs": [],
   "source": [
    "psp.update([{'index': 1, 'value': 0}])\n",
    "psp.update([{'index': 1, 'value': 1}])\n",
    "psp.update([{'index': 1, 'value': 2}])\n",
    "psp.update([{'index': 1, 'value': 3}])"
   ]
  },
  {
   "cell_type": "code",
   "execution_count": 12,
   "metadata": {},
   "outputs": [
    {
     "data": {
      "application/vnd.jupyter.widget-view+json": {
       "model_id": "2ca1e58e018b4e5dab8c8ed0b6106466",
       "version_major": 2,
       "version_minor": 0
      },
      "text/plain": [
       "PerspectiveWidget(columns=['index', 'value'], datasrc='list', index='index', schema={'index': 'integer', 'valu…"
      ]
     },
     "metadata": {},
     "output_type": "display_data"
    }
   ],
   "source": [
    "psp = PerspectiveWidget([{'index': 1, 'value': 0}], index='index')\n",
    "psp"
   ]
  },
  {
   "cell_type": "code",
   "execution_count": 13,
   "metadata": {},
   "outputs": [],
   "source": [
    "psp.update([{'index': 1, 'value': 0}])\n",
    "psp.update([{'index': 1, 'value': 1}])\n",
    "psp.update([{'index': 1, 'value': 2}])\n",
    "psp.update([{'index': 1, 'value': 3}])"
   ]
  },
  {
   "cell_type": "code",
   "execution_count": 15,
   "metadata": {},
   "outputs": [
    {
     "data": {
      "application/vnd.jupyter.widget-view+json": {
       "model_id": "d16f6518f86842c693c15b5e482f9c70",
       "version_major": 2,
       "version_minor": 0
      },
      "text/plain": [
       "PerspectiveWidget(columns=['index', '0', '1', '2', '3', '4', '5', '6', '7', '8', '9', 'Anon-0', 'Anon-0'], com…"
      ]
     },
     "metadata": {},
     "output_type": "display_data"
    }
   ],
   "source": [
    "p = PerspectiveWidget(df, computedcolumns=[{\"inputs\":[df.columns[0], df.columns[1]], \"func\":\"add\"}])\n",
    "p"
   ]
  },
  {
   "cell_type": "code",
   "execution_count": null,
   "metadata": {},
   "outputs": [],
   "source": []
  },
  {
   "cell_type": "code",
   "execution_count": null,
   "metadata": {},
   "outputs": [],
   "source": []
  }
 ],
 "metadata": {
  "kernelspec": {
   "display_name": "Python 3",
   "language": "python",
   "name": "python3"
  },
  "language_info": {
   "codemirror_mode": {
    "name": "ipython",
    "version": 3
   },
   "file_extension": ".py",
   "mimetype": "text/x-python",
   "name": "python",
   "nbconvert_exporter": "python",
   "pygments_lexer": "ipython3",
   "version": "3.7.0"
  }
 },
 "nbformat": 4,
 "nbformat_minor": 2
}
