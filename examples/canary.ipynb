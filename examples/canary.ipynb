{
 "cells": [
  {
   "cell_type": "code",
   "execution_count": 1,
   "metadata": {},
   "outputs": [],
   "source": [
    "%%capture\n",
    "# import lantern as l\n",
    "from perspective import PerspectiveWidget, View\n",
    "import pandas as pd\n",
    "\n",
    "import numpy as np\n",
    "import random"
   ]
  },
  {
   "cell_type": "code",
   "execution_count": 2,
   "metadata": {},
   "outputs": [
    {
     "data": {
      "application/vnd.jupyter.widget-view+json": {
       "model_id": "e2c61482f3194b2c9e234b0572b823e0",
       "version_major": 2,
       "version_minor": 0
      },
      "text/plain": [
       "PerspectiveWidget(columns=['0'], datasrc='json', schema={0: 'float'}, transfer_as_arrow=False, view='y_line')"
      ]
     },
     "metadata": {},
     "output_type": "display_data"
    }
   ],
   "source": [
    "df = pd.DataFrame(np.random.random((10,10)))\n",
    "p = PerspectiveWidget(df[0], View.YLINE)\n",
    "p"
   ]
  },
  {
   "cell_type": "code",
   "execution_count": 3,
   "metadata": {},
   "outputs": [],
   "source": [
    "p.update(df[0])"
   ]
  },
  {
   "cell_type": "code",
   "execution_count": 4,
   "metadata": {},
   "outputs": [
    {
     "data": {
      "application/vnd.jupyter.widget-view+json": {
       "model_id": "e90b7cfabf5d4206aca224ede9198e0e",
       "version_major": 2,
       "version_minor": 0
      },
      "text/plain": [
       "PerspectiveWidget(aggregates={'0': 'sum'}, columns=['0', '1', '2', '3', '4', '5', '6', '7', '8', '9'], datasrc…"
      ]
     },
     "metadata": {},
     "output_type": "display_data"
    }
   ],
   "source": [
    "p2 = PerspectiveWidget(df, 'y_line',\n",
    "                       aggregates={'0': 'sum'})\n",
    "p2"
   ]
  },
  {
   "cell_type": "code",
   "execution_count": 5,
   "metadata": {},
   "outputs": [
    {
     "data": {
      "application/vnd.jupyter.widget-view+json": {
       "model_id": "926c29fb4cac4092b1f9ff4fd003c059",
       "version_major": 2,
       "version_minor": 0
      },
      "text/plain": [
       "PerspectiveWidget(aggregates={'0': 'sum', '1': 'last'}, columns=['0', '1'], datasrc='json', rowpivots=['index'…"
      ]
     },
     "metadata": {},
     "output_type": "display_data"
    }
   ],
   "source": [
    "p3 = PerspectiveWidget(df, 'y_line',\n",
    "                       columns=['0', '1'],\n",
    "                       rowpivots=['index'],\n",
    "                       aggregates={'0': 'sum',\n",
    "                                   '1': 'last'},\n",
    "                       settings=True)\n",
    "p3"
   ]
  },
  {
   "cell_type": "code",
   "execution_count": 6,
   "metadata": {},
   "outputs": [],
   "source": [
    "p3.settings = True"
   ]
  },
  {
   "cell_type": "code",
   "execution_count": 7,
   "metadata": {},
   "outputs": [
    {
     "data": {
      "application/vnd.jupyter.widget-view+json": {
       "model_id": "fa65d39033f7491181de9bea355f247d",
       "version_major": 2,
       "version_minor": 0
      },
      "text/plain": [
       "PerspectiveWidget(columns=['A', 'B', 'C', 'D'], datasrc='json', schema={'index': 'date', 'A': 'float', 'B': 'f…"
      ]
     },
     "metadata": {},
     "output_type": "display_data"
    }
   ],
   "source": [
    "df2 = pd.DataFrame(pd.util.testing.getTimeSeriesData())\n",
    "p4 = PerspectiveWidget(df2, View.YLINE)\n",
    "p4"
   ]
  },
  {
   "cell_type": "code",
   "execution_count": 8,
   "metadata": {},
   "outputs": [
    {
     "data": {
      "application/vnd.jupyter.widget-view+json": {
       "model_id": "f8374cd7dc344cc88575e09fe250273c",
       "version_major": 2,
       "version_minor": 0
      },
      "text/plain": [
       "PerspectiveWidget(columns=['A', 'B', 'C', 'D'], datasrc='json', schema={'index': 'date', 'A': 'float', 'B': 'f…"
      ]
     },
     "metadata": {},
     "output_type": "display_data"
    }
   ],
   "source": [
    "df2 = pd.DataFrame(pd.util.testing.getTimeSeriesData())\n",
    "p5 = PerspectiveWidget(df2)\n",
    "p5"
   ]
  },
  {
   "cell_type": "code",
   "execution_count": 9,
   "metadata": {},
   "outputs": [
    {
     "data": {
      "application/vnd.jupyter.widget-view+json": {
       "model_id": "98b6833187de4636a3e964f44eda2b55",
       "version_major": 2,
       "version_minor": 0
      },
      "text/plain": [
       "PerspectiveWidget(columns=['A', 'B', 'C', 'D'], datasrc='json', rowpivots=['index'], schema={'index': 'date', …"
      ]
     },
     "metadata": {},
     "output_type": "display_data"
    }
   ],
   "source": [
    "df2 = pd.DataFrame(pd.util.testing.getTimeSeriesData()).reset_index()\n",
    "p6 = PerspectiveWidget(df2.iloc[0].to_dict(), view='y_line')\n",
    "p6"
   ]
  },
  {
   "cell_type": "code",
   "execution_count": 10,
   "metadata": {},
   "outputs": [],
   "source": [
    "import time\n",
    "for i in range(len(df2.index)):\n",
    "    time.sleep(.2)\n",
    "    p6.update(df2.iloc[i].to_dict())"
   ]
  },
  {
   "cell_type": "code",
   "execution_count": 11,
   "metadata": {},
   "outputs": [
    {
     "data": {
      "application/vnd.jupyter.widget-view+json": {
       "model_id": "ff0fa91c7ad049469f7cc4b0e3b0d625",
       "version_major": 2,
       "version_minor": 0
      },
      "text/plain": [
       "PerspectiveWidget(columns=['index', 'value'], datasrc='json', limit=2, schema={'index': 'integer', 'value': 'i…"
      ]
     },
     "metadata": {},
     "output_type": "display_data"
    }
   ],
   "source": [
    "psp = PerspectiveWidget([{'index': 1, 'value': 0}], limit=2)\n",
    "psp"
   ]
  },
  {
   "cell_type": "code",
   "execution_count": 12,
   "metadata": {},
   "outputs": [],
   "source": [
    "psp.update([{'index': 1, 'value': 0}])\n",
    "psp.update([{'index': 1, 'value': 1}])\n",
    "psp.update([{'index': 1, 'value': 2}])\n",
    "psp.update([{'index': 1, 'value': 3}])"
   ]
  },
  {
   "cell_type": "code",
   "execution_count": 13,
   "metadata": {},
   "outputs": [
    {
     "data": {
      "application/vnd.jupyter.widget-view+json": {
       "model_id": "29a844cf098442c395140b568a383848",
       "version_major": 2,
       "version_minor": 0
      },
      "text/plain": [
       "PerspectiveWidget(columns=['index', 'value'], datasrc='json', index='index', schema={'index': 'string', 'value…"
      ]
     },
     "metadata": {},
     "output_type": "display_data"
    }
   ],
   "source": [
    "psp = PerspectiveWidget([{'index': 'a', 'value': 0}, {'index':'a', 'value': 1}, {'index': 'b', 'value': 2}], index='index')\n",
    "psp"
   ]
  },
  {
   "cell_type": "code",
   "execution_count": 14,
   "metadata": {},
   "outputs": [],
   "source": [
    "psp.update([{'index': 'a', 'value': 0}])\n",
    "psp.update([{'index': 'a', 'value': 1}])\n",
    "psp.update([{'index': 'a', 'value': 2}])\n",
    "psp.update([{'index': 'a', 'value': 3}])"
   ]
  },
  {
   "cell_type": "code",
   "execution_count": 15,
   "metadata": {},
   "outputs": [
    {
     "data": {
      "application/vnd.jupyter.widget-view+json": {
       "model_id": "8350a2c5d3824031a55fb6b77398ceb3",
       "version_major": 2,
       "version_minor": 0
      },
      "text/plain": [
       "PerspectiveWidget(columns=['0', '1', '2', '3', '4', '5', '6', '7', '8', '9', 'Anon-0', 'Anon-0'], computedcolu…"
      ]
     },
     "metadata": {},
     "output_type": "display_data"
    }
   ],
   "source": [
    "p = PerspectiveWidget(df, computedcolumns=[{\"inputs\":[df.columns[0], df.columns[1]], \"func\":\"add\"}])\n",
    "p"
   ]
  },
  {
   "cell_type": "code",
   "execution_count": 16,
   "metadata": {},
   "outputs": [
    {
     "data": {
      "application/vnd.jupyter.widget-view+json": {
       "model_id": "8277cb579fb64fedb86cea5c4f76c0e9",
       "version_major": 2,
       "version_minor": 0
      },
      "text/plain": [
       "PerspectiveWidget(columns=['0', '1', '2', '3', '4', '5', '6', '7', '8', '9'], dark=True, datasrc='json', schem…"
      ]
     },
     "metadata": {},
     "output_type": "display_data"
    }
   ],
   "source": [
    "p = PerspectiveWidget(df, dark=True)\n",
    "p"
   ]
  },
  {
   "cell_type": "code",
   "execution_count": 17,
   "metadata": {},
   "outputs": [],
   "source": [
    "p.dark = True"
   ]
  },
  {
   "cell_type": "code",
   "execution_count": 22,
   "metadata": {},
   "outputs": [
    {
     "data": {
      "application/vnd.jupyter.widget-view+json": {
       "model_id": "bbe12828f2fb49569312604341498bb8",
       "version_major": 2,
       "version_minor": 0
      },
      "text/plain": [
       "PerspectiveWidget(columns=['c', 'b', 'a', 'aa', 'bb', 'cc'], datasrc='json', schema={'c': 'integer', 'b': 'int…"
      ]
     },
     "metadata": {},
     "output_type": "display_data"
    }
   ],
   "source": [
    "p = PerspectiveWidget([{'c': 4, 'b': 2, 'a': 1, 'aa': 3, 'bb': 4, 'cc': 5}])\n",
    "p"
   ]
  },
  {
   "cell_type": "code",
   "execution_count": 26,
   "metadata": {},
   "outputs": [
    {
     "data": {
      "application/vnd.jupyter.widget-view+json": {
       "model_id": "bc4eb4165c31406c92c4e9d2c3718714",
       "version_major": 2,
       "version_minor": 0
      },
      "text/plain": [
       "PerspectiveWidget(columns=['c', 'b', 'a', 'aa', 'bb', 'cc'], datasrc='json', schema={'index': 'integer', 'c': …"
      ]
     },
     "metadata": {},
     "output_type": "display_data"
    }
   ],
   "source": [
    "df = pd.DataFrame([{'c': 4, 'b': 2, 'a': 1, 'aa': 3, 'bb': 4, 'cc': 5}])\n",
    "df.columns = ['c', 'b', 'a', 'aa', 'bb', 'cc']\n",
    "p = PerspectiveWidget(df)\n",
    "p"
   ]
  },
  {
   "cell_type": "code",
   "execution_count": 25,
   "metadata": {},
   "outputs": [
    {
     "data": {
      "text/plain": [
       "Index(['a', 'aa', 'b', 'bb', 'c', 'cc'], dtype='object')"
      ]
     },
     "execution_count": 25,
     "metadata": {},
     "output_type": "execute_result"
    }
   ],
   "source": [
    "df.columns"
   ]
  },
  {
   "cell_type": "code",
   "execution_count": null,
   "metadata": {},
   "outputs": [],
   "source": []
  }
 ],
 "metadata": {
  "kernelspec": {
   "display_name": "Python 3",
   "language": "python",
   "name": "python3"
  },
  "language_info": {
   "codemirror_mode": {
    "name": "ipython",
    "version": 3
   },
   "file_extension": ".py",
   "mimetype": "text/x-python",
   "name": "python",
   "nbconvert_exporter": "python",
   "pygments_lexer": "ipython3",
   "version": "3.7.3"
  }
 },
 "nbformat": 4,
 "nbformat_minor": 2
}
